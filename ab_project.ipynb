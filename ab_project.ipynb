{
 "cells": [
  {
   "cell_type": "markdown",
   "id": "1a42c22f-6d46-4e1f-b147-faa36027434f",
   "metadata": {},
   "source": [
    "# Technical description"
   ]
  },
  {
   "cell_type": "markdown",
   "id": "5036302a-7678-4472-95d0-c05ff5563a67",
   "metadata": {},
   "source": [
    "- **Test Name:** recommender_system_test\r\n",
    "- **Groups:** A (control), B (new payment funnel)\r\n",
    "- **Start Date:** 12-07-2020\r\n",
    "- **Date when they stopped receiving new users:** 12-21-2020\r\n",
    "- **End Date:** 01-01-2021\r\n",
    "- **Audience:** 15% of new users from the EU region\r\n",
    "- **Test Purpose:** Testing changes related to the introduction of an improved recommendation system\r\n",
    "- **Expected Outcome:** Within 14 days after registration, users are expected to show better conversion rates in product page views (the event product_page event), adding items to the cart (product_cart), and purchases (purchase). At each step of the funnel product_page → product_cart → purchase, there will be at least a 10% increase.\r\n",
    "- **Expected Number of Test Participants:** 6000\n",
    "\n",
    "\n",
    "\n"
   ]
  },
  {
   "cell_type": "markdown",
   "id": "e88c74ba-71f4-40db-a5f4-3d632e393979",
   "metadata": {},
   "source": [
    "# Data description"
   ]
  },
  {
   "cell_type": "markdown",
   "id": "58c34d5c-2b9a-445f-8ad1-3b985ebbcf7a",
   "metadata": {},
   "source": [
    "**ab_project_marketing_events_us.csv** — Marketing Events Calendar for 2020\n",
    "\n",
    "- **name**: Name of the marketing events\n",
    "- **regions**: Regions where the campaign will be conducted\n",
    "- **start_dt**: Start date of the campaign\n",
    "- **finish_dt**: End date of the campaign\n",
    "\n",
    "**final_ab_new_users_upd_us.csv** — All Users who Registered on the Online Store (December 7 to 21, 2020)\n",
    "\n",
    "- **user_id**\n",
    "- **first_date**: Registration date\n",
    "- **region**\n",
    "- **device**: Device used for registration\n",
    "\n",
    "**final_ab_events_upd_us.csv** — All Events of New Users (December 7, 2020, to January 1, 2021)\n",
    "\n",
    "- **user_id**\n",
    "- **event_dt**: Date and time of the event\n",
    "- **event_name**: Name of the event source\n",
    "- **details**: Additional data about the event (e.g., total order amount in USD for purchase events)\n",
    "\n",
    "**final_ab_participants_upd_us.csv** — Test Participants\n",
    "\n",
    "- **user_id**\n",
    "- **ab_test**: Test name\n",
    "- **group**: Test group to which the user belonged"
   ]
  },
  {
   "cell_type": "markdown",
   "id": "a06f0d80-9de9-4ef4-a3c5-e1cb08290784",
   "metadata": {},
   "source": [
    "# Decomposition"
   ]
  },
  {
   "cell_type": "markdown",
   "id": "87dc23ed-dfc1-49d2-bc79-1fbe03a52c34",
   "metadata": {},
   "source": [
    "\n",
    "\n",
    "1. <b>Project objectives</b>: Defining what we would like to achieve at the end of this project.\n",
    "2. <b>Standardize data</b>: Review column data types to achieve good manipulation of data.\n",
    "3. <b>Missing values</b>: I will treat missing values in accord with the size of them compared with total data set, they can be deleted or filled in order to obtain a solid data set.\n",
    "4. <b>Duplicated values</b>: I will treat them depending on quantity of duplicates in relation with total data.\n",
    "5. <b>Enhance data</b>: In this process will add columns that will be relevant for our analysis and merge datasets.\n",
    "6. <b>Conversion rates</b>: Analyze conversion rate between events.\n",
    "7. <b>Events</b>: Find if events by user is equally distributed, how number of events is distributed by day.\n",
    "8. <b>Sample</b>: Find if there is users per sample.\n",
    "9. <b>A/B test</b>: Conclusion of A/B test results.\n",
    "10. <b>Statistic test</b>: Apply a statistic test to verify statistic difference ansd proportions.\n",
    "11. <b>Conclusion</b>: General conclusion of analysis and A/B test."
   ]
  },
  {
   "cell_type": "markdown",
   "id": "83135ea8-5d33-4c0d-9dee-113d93b00031",
   "metadata": {},
   "source": [
    "# Objectives"
   ]
  },
  {
   "cell_type": "markdown",
   "id": "763b631e-dd60-4f29-b15d-830e780e1e02",
   "metadata": {},
   "source": [
    "* Experiment confiability analisys\n",
    "  \n",
    "* What conclusions we can take from it"
   ]
  },
  {
   "cell_type": "markdown",
   "id": "e24444ba-ec08-4952-b69d-ab6b93997014",
   "metadata": {},
   "source": [
    "# Initializing"
   ]
  },
  {
   "cell_type": "markdown",
   "id": "0e7ec329-a59d-4a12-8be9-ad8568cfa8f2",
   "metadata": {},
   "source": [
    "## libraries"
   ]
  },
  {
   "cell_type": "code",
   "execution_count": 12,
   "id": "0ac6b7d8-e069-4771-a4b6-4505d612094f",
   "metadata": {},
   "outputs": [],
   "source": [
    "#loading libraries\n",
    "\n",
    "import pandas as pd\n",
    "import numpy as np\n",
    "\n",
    "import matplotlib.pyplot as plt\n",
    "import seaborn as sns\n",
    "sns.set_style('darkgrid')\n",
    "sns.set_palette('rainbow')\n",
    "sns.color_palette('Paired')\n",
    "sns.set_context('talk')\n",
    "\n",
    "from statsmodels.stats.proportion import proportions_ztest\n",
    "from scipy.stats import chi2_contingency\n"
   ]
  },
  {
   "cell_type": "markdown",
   "id": "6e568fe9-b901-4820-9252-1657c8305d43",
   "metadata": {},
   "source": [
    "## loading files"
   ]
  },
  {
   "cell_type": "code",
   "execution_count": 14,
   "id": "c381db98-fe95-4487-b3b9-94df305cbb6c",
   "metadata": {},
   "outputs": [],
   "source": [
    "try:\n",
    "    ab_events = pd.read_csv(\"/datasets/final_ab_events_upd_us.csv\")\n",
    "\n",
    "except FileNotFoundError:\n",
    "    ab_events = pd.read_csv(\"final_ab_events_upd_us.csv\")"
   ]
  },
  {
   "cell_type": "code",
   "execution_count": 15,
   "id": "3514aeb5-fb63-41d7-962e-da15db457b91",
   "metadata": {},
   "outputs": [],
   "source": [
    "try:\n",
    "    ab_new_users = pd.read_csv(\"/datasets/final_ab_new_users_upd_us.csv\")\n",
    "\n",
    "except FileNotFoundError:\n",
    "    ab_new_users = pd.read_csv(\"final_ab_new_users_upd_us.csv\")"
   ]
  },
  {
   "cell_type": "code",
   "execution_count": 16,
   "id": "61379fdf-cc3e-458e-8bc5-9841f13bb3d1",
   "metadata": {},
   "outputs": [],
   "source": [
    "try:\n",
    "    ab_participants = pd.read_csv(\"/datasets/final_ab_participants_upd_us.csv\")\n",
    "\n",
    "except FileNotFoundError:\n",
    "    ab_participants = pd.read_csv(\"final_ab_participants_upd_us.csv\")"
   ]
  },
  {
   "cell_type": "code",
   "execution_count": 17,
   "id": "f9592e00-15ef-4b58-b39c-96e9eb952d8f",
   "metadata": {},
   "outputs": [],
   "source": [
    "try:\n",
    "    ab_mkt = pd.read_csv(\"/datasets/ab_project_marketing_events_us.csv\")\n",
    "\n",
    "except FileNotFoundError:\n",
    "    ab_mkt = pd.read_csv(\"ab_project_marketing_events_us.csv\")"
   ]
  },
  {
   "cell_type": "code",
   "execution_count": 18,
   "id": "ab361fed-2a5e-4ac3-b00c-141cb8da7450",
   "metadata": {},
   "outputs": [
    {
     "data": {
      "text/html": [
       "<div>\n",
       "<style scoped>\n",
       "    .dataframe tbody tr th:only-of-type {\n",
       "        vertical-align: middle;\n",
       "    }\n",
       "\n",
       "    .dataframe tbody tr th {\n",
       "        vertical-align: top;\n",
       "    }\n",
       "\n",
       "    .dataframe thead th {\n",
       "        text-align: right;\n",
       "    }\n",
       "</style>\n",
       "<table border=\"1\" class=\"dataframe\">\n",
       "  <thead>\n",
       "    <tr style=\"text-align: right;\">\n",
       "      <th></th>\n",
       "      <th>user_id</th>\n",
       "      <th>event_dt</th>\n",
       "      <th>event_name</th>\n",
       "      <th>details</th>\n",
       "    </tr>\n",
       "  </thead>\n",
       "  <tbody>\n",
       "    <tr>\n",
       "      <th>0</th>\n",
       "      <td>E1BDDCE0DAFA2679</td>\n",
       "      <td>2020-12-07 20:22:03</td>\n",
       "      <td>purchase</td>\n",
       "      <td>99.99</td>\n",
       "    </tr>\n",
       "    <tr>\n",
       "      <th>1</th>\n",
       "      <td>7B6452F081F49504</td>\n",
       "      <td>2020-12-07 09:22:53</td>\n",
       "      <td>purchase</td>\n",
       "      <td>9.99</td>\n",
       "    </tr>\n",
       "    <tr>\n",
       "      <th>2</th>\n",
       "      <td>9CD9F34546DF254C</td>\n",
       "      <td>2020-12-07 12:59:29</td>\n",
       "      <td>purchase</td>\n",
       "      <td>4.99</td>\n",
       "    </tr>\n",
       "    <tr>\n",
       "      <th>3</th>\n",
       "      <td>96F27A054B191457</td>\n",
       "      <td>2020-12-07 04:02:40</td>\n",
       "      <td>purchase</td>\n",
       "      <td>4.99</td>\n",
       "    </tr>\n",
       "    <tr>\n",
       "      <th>4</th>\n",
       "      <td>1FD7660FDF94CA1F</td>\n",
       "      <td>2020-12-07 10:15:09</td>\n",
       "      <td>purchase</td>\n",
       "      <td>4.99</td>\n",
       "    </tr>\n",
       "  </tbody>\n",
       "</table>\n",
       "</div>"
      ],
      "text/plain": [
       "            user_id             event_dt event_name  details\n",
       "0  E1BDDCE0DAFA2679  2020-12-07 20:22:03   purchase    99.99\n",
       "1  7B6452F081F49504  2020-12-07 09:22:53   purchase     9.99\n",
       "2  9CD9F34546DF254C  2020-12-07 12:59:29   purchase     4.99\n",
       "3  96F27A054B191457  2020-12-07 04:02:40   purchase     4.99\n",
       "4  1FD7660FDF94CA1F  2020-12-07 10:15:09   purchase     4.99"
      ]
     },
     "execution_count": 18,
     "metadata": {},
     "output_type": "execute_result"
    }
   ],
   "source": [
    "ab_events.head()"
   ]
  },
  {
   "cell_type": "code",
   "execution_count": 19,
   "id": "85b09ffc-acd0-455e-acca-bfc03f06f7b7",
   "metadata": {},
   "outputs": [
    {
     "data": {
      "text/plain": [
       "(423761, 4)"
      ]
     },
     "execution_count": 19,
     "metadata": {},
     "output_type": "execute_result"
    }
   ],
   "source": [
    "ab_events.shape"
   ]
  },
  {
   "cell_type": "code",
   "execution_count": 20,
   "id": "429de62a-b074-4faf-bf30-ff8a0a9b1a58",
   "metadata": {},
   "outputs": [
    {
     "name": "stdout",
     "output_type": "stream",
     "text": [
      "<class 'pandas.core.frame.DataFrame'>\n",
      "RangeIndex: 423761 entries, 0 to 423760\n",
      "Data columns (total 4 columns):\n",
      " #   Column      Non-Null Count   Dtype  \n",
      "---  ------      --------------   -----  \n",
      " 0   user_id     423761 non-null  object \n",
      " 1   event_dt    423761 non-null  object \n",
      " 2   event_name  423761 non-null  object \n",
      " 3   details     60314 non-null   float64\n",
      "dtypes: float64(1), object(3)\n",
      "memory usage: 12.9+ MB\n"
     ]
    }
   ],
   "source": [
    "ab_events.info()"
   ]
  },
  {
   "cell_type": "markdown",
   "id": "a679af3e-a7de-4a91-891f-5cd2de662746",
   "metadata": {},
   "source": [
    "     missing values found in details column, event_dt type need adjust"
   ]
  },
  {
   "cell_type": "code",
   "execution_count": 22,
   "id": "6c87d578-92f5-4529-9fe1-18af452e593b",
   "metadata": {},
   "outputs": [
    {
     "data": {
      "text/html": [
       "<div>\n",
       "<style scoped>\n",
       "    .dataframe tbody tr th:only-of-type {\n",
       "        vertical-align: middle;\n",
       "    }\n",
       "\n",
       "    .dataframe tbody tr th {\n",
       "        vertical-align: top;\n",
       "    }\n",
       "\n",
       "    .dataframe thead th {\n",
       "        text-align: right;\n",
       "    }\n",
       "</style>\n",
       "<table border=\"1\" class=\"dataframe\">\n",
       "  <thead>\n",
       "    <tr style=\"text-align: right;\">\n",
       "      <th></th>\n",
       "      <th>user_id</th>\n",
       "      <th>first_date</th>\n",
       "      <th>region</th>\n",
       "      <th>device</th>\n",
       "    </tr>\n",
       "  </thead>\n",
       "  <tbody>\n",
       "    <tr>\n",
       "      <th>0</th>\n",
       "      <td>D72A72121175D8BE</td>\n",
       "      <td>2020-12-07</td>\n",
       "      <td>EU</td>\n",
       "      <td>PC</td>\n",
       "    </tr>\n",
       "    <tr>\n",
       "      <th>1</th>\n",
       "      <td>F1C668619DFE6E65</td>\n",
       "      <td>2020-12-07</td>\n",
       "      <td>N.America</td>\n",
       "      <td>Android</td>\n",
       "    </tr>\n",
       "    <tr>\n",
       "      <th>2</th>\n",
       "      <td>2E1BF1D4C37EA01F</td>\n",
       "      <td>2020-12-07</td>\n",
       "      <td>EU</td>\n",
       "      <td>PC</td>\n",
       "    </tr>\n",
       "    <tr>\n",
       "      <th>3</th>\n",
       "      <td>50734A22C0C63768</td>\n",
       "      <td>2020-12-07</td>\n",
       "      <td>EU</td>\n",
       "      <td>iPhone</td>\n",
       "    </tr>\n",
       "    <tr>\n",
       "      <th>4</th>\n",
       "      <td>E1BDDCE0DAFA2679</td>\n",
       "      <td>2020-12-07</td>\n",
       "      <td>N.America</td>\n",
       "      <td>iPhone</td>\n",
       "    </tr>\n",
       "  </tbody>\n",
       "</table>\n",
       "</div>"
      ],
      "text/plain": [
       "            user_id  first_date     region   device\n",
       "0  D72A72121175D8BE  2020-12-07         EU       PC\n",
       "1  F1C668619DFE6E65  2020-12-07  N.America  Android\n",
       "2  2E1BF1D4C37EA01F  2020-12-07         EU       PC\n",
       "3  50734A22C0C63768  2020-12-07         EU   iPhone\n",
       "4  E1BDDCE0DAFA2679  2020-12-07  N.America   iPhone"
      ]
     },
     "execution_count": 22,
     "metadata": {},
     "output_type": "execute_result"
    }
   ],
   "source": [
    "ab_new_users.head()"
   ]
  },
  {
   "cell_type": "code",
   "execution_count": 23,
   "id": "0975dc66-5ff1-4ad6-880f-1e937f5fa6e2",
   "metadata": {},
   "outputs": [
    {
     "data": {
      "text/plain": [
       "(58703, 4)"
      ]
     },
     "execution_count": 23,
     "metadata": {},
     "output_type": "execute_result"
    }
   ],
   "source": [
    "ab_new_users.shape"
   ]
  },
  {
   "cell_type": "code",
   "execution_count": 24,
   "id": "1bde58d9-d7cf-4040-a85d-ca2bc0ae04bc",
   "metadata": {},
   "outputs": [
    {
     "name": "stdout",
     "output_type": "stream",
     "text": [
      "<class 'pandas.core.frame.DataFrame'>\n",
      "RangeIndex: 58703 entries, 0 to 58702\n",
      "Data columns (total 4 columns):\n",
      " #   Column      Non-Null Count  Dtype \n",
      "---  ------      --------------  ----- \n",
      " 0   user_id     58703 non-null  object\n",
      " 1   first_date  58703 non-null  object\n",
      " 2   region      58703 non-null  object\n",
      " 3   device      58703 non-null  object\n",
      "dtypes: object(4)\n",
      "memory usage: 1.8+ MB\n"
     ]
    }
   ],
   "source": [
    "ab_new_users.info()"
   ]
  },
  {
   "cell_type": "markdown",
   "id": "b35b0412-1042-4ebf-9441-8c78c5515462",
   "metadata": {},
   "source": [
    "    no missing values found, date column type need adjust"
   ]
  },
  {
   "cell_type": "code",
   "execution_count": 26,
   "id": "eae0ebde-46c9-4ff4-9ed1-7477212a3e05",
   "metadata": {},
   "outputs": [
    {
     "data": {
      "text/html": [
       "<div>\n",
       "<style scoped>\n",
       "    .dataframe tbody tr th:only-of-type {\n",
       "        vertical-align: middle;\n",
       "    }\n",
       "\n",
       "    .dataframe tbody tr th {\n",
       "        vertical-align: top;\n",
       "    }\n",
       "\n",
       "    .dataframe thead th {\n",
       "        text-align: right;\n",
       "    }\n",
       "</style>\n",
       "<table border=\"1\" class=\"dataframe\">\n",
       "  <thead>\n",
       "    <tr style=\"text-align: right;\">\n",
       "      <th></th>\n",
       "      <th>user_id</th>\n",
       "      <th>group</th>\n",
       "      <th>ab_test</th>\n",
       "    </tr>\n",
       "  </thead>\n",
       "  <tbody>\n",
       "    <tr>\n",
       "      <th>0</th>\n",
       "      <td>D1ABA3E2887B6A73</td>\n",
       "      <td>A</td>\n",
       "      <td>recommender_system_test</td>\n",
       "    </tr>\n",
       "    <tr>\n",
       "      <th>1</th>\n",
       "      <td>A7A3664BD6242119</td>\n",
       "      <td>A</td>\n",
       "      <td>recommender_system_test</td>\n",
       "    </tr>\n",
       "    <tr>\n",
       "      <th>2</th>\n",
       "      <td>DABC14FDDFADD29E</td>\n",
       "      <td>A</td>\n",
       "      <td>recommender_system_test</td>\n",
       "    </tr>\n",
       "    <tr>\n",
       "      <th>3</th>\n",
       "      <td>04988C5DF189632E</td>\n",
       "      <td>A</td>\n",
       "      <td>recommender_system_test</td>\n",
       "    </tr>\n",
       "    <tr>\n",
       "      <th>4</th>\n",
       "      <td>4FF2998A348C484F</td>\n",
       "      <td>A</td>\n",
       "      <td>recommender_system_test</td>\n",
       "    </tr>\n",
       "  </tbody>\n",
       "</table>\n",
       "</div>"
      ],
      "text/plain": [
       "            user_id group                  ab_test\n",
       "0  D1ABA3E2887B6A73     A  recommender_system_test\n",
       "1  A7A3664BD6242119     A  recommender_system_test\n",
       "2  DABC14FDDFADD29E     A  recommender_system_test\n",
       "3  04988C5DF189632E     A  recommender_system_test\n",
       "4  4FF2998A348C484F     A  recommender_system_test"
      ]
     },
     "execution_count": 26,
     "metadata": {},
     "output_type": "execute_result"
    }
   ],
   "source": [
    "ab_participants.head()"
   ]
  },
  {
   "cell_type": "code",
   "execution_count": 27,
   "id": "17193768-682f-4d18-b83b-3ded198ea506",
   "metadata": {},
   "outputs": [
    {
     "data": {
      "text/plain": [
       "(14525, 3)"
      ]
     },
     "execution_count": 27,
     "metadata": {},
     "output_type": "execute_result"
    }
   ],
   "source": [
    "ab_participants.shape"
   ]
  },
  {
   "cell_type": "code",
   "execution_count": 28,
   "id": "6d67f8d5-e9b1-4521-a571-179dfd16b1d7",
   "metadata": {},
   "outputs": [
    {
     "name": "stdout",
     "output_type": "stream",
     "text": [
      "<class 'pandas.core.frame.DataFrame'>\n",
      "RangeIndex: 14525 entries, 0 to 14524\n",
      "Data columns (total 3 columns):\n",
      " #   Column   Non-Null Count  Dtype \n",
      "---  ------   --------------  ----- \n",
      " 0   user_id  14525 non-null  object\n",
      " 1   group    14525 non-null  object\n",
      " 2   ab_test  14525 non-null  object\n",
      "dtypes: object(3)\n",
      "memory usage: 340.6+ KB\n"
     ]
    }
   ],
   "source": [
    "ab_participants.info()"
   ]
  },
  {
   "cell_type": "markdown",
   "id": "623bc333-d541-410d-a4ec-cb243c947ddc",
   "metadata": {},
   "source": [
    "    no missing values found"
   ]
  },
  {
   "cell_type": "code",
   "execution_count": 30,
   "id": "bfe671e5-3e5a-4d7f-8dcd-361ff431cd27",
   "metadata": {},
   "outputs": [
    {
     "data": {
      "text/html": [
       "<div>\n",
       "<style scoped>\n",
       "    .dataframe tbody tr th:only-of-type {\n",
       "        vertical-align: middle;\n",
       "    }\n",
       "\n",
       "    .dataframe tbody tr th {\n",
       "        vertical-align: top;\n",
       "    }\n",
       "\n",
       "    .dataframe thead th {\n",
       "        text-align: right;\n",
       "    }\n",
       "</style>\n",
       "<table border=\"1\" class=\"dataframe\">\n",
       "  <thead>\n",
       "    <tr style=\"text-align: right;\">\n",
       "      <th></th>\n",
       "      <th>name</th>\n",
       "      <th>regions</th>\n",
       "      <th>start_dt</th>\n",
       "      <th>finish_dt</th>\n",
       "    </tr>\n",
       "  </thead>\n",
       "  <tbody>\n",
       "    <tr>\n",
       "      <th>0</th>\n",
       "      <td>Christmas&amp;New Year Promo</td>\n",
       "      <td>EU, N.America</td>\n",
       "      <td>2020-12-25</td>\n",
       "      <td>2021-01-03</td>\n",
       "    </tr>\n",
       "    <tr>\n",
       "      <th>1</th>\n",
       "      <td>St. Valentine's Day Giveaway</td>\n",
       "      <td>EU, CIS, APAC, N.America</td>\n",
       "      <td>2020-02-14</td>\n",
       "      <td>2020-02-16</td>\n",
       "    </tr>\n",
       "    <tr>\n",
       "      <th>2</th>\n",
       "      <td>St. Patric's Day Promo</td>\n",
       "      <td>EU, N.America</td>\n",
       "      <td>2020-03-17</td>\n",
       "      <td>2020-03-19</td>\n",
       "    </tr>\n",
       "    <tr>\n",
       "      <th>3</th>\n",
       "      <td>Easter Promo</td>\n",
       "      <td>EU, CIS, APAC, N.America</td>\n",
       "      <td>2020-04-12</td>\n",
       "      <td>2020-04-19</td>\n",
       "    </tr>\n",
       "    <tr>\n",
       "      <th>4</th>\n",
       "      <td>4th of July Promo</td>\n",
       "      <td>N.America</td>\n",
       "      <td>2020-07-04</td>\n",
       "      <td>2020-07-11</td>\n",
       "    </tr>\n",
       "  </tbody>\n",
       "</table>\n",
       "</div>"
      ],
      "text/plain": [
       "                           name                   regions    start_dt  \\\n",
       "0      Christmas&New Year Promo             EU, N.America  2020-12-25   \n",
       "1  St. Valentine's Day Giveaway  EU, CIS, APAC, N.America  2020-02-14   \n",
       "2        St. Patric's Day Promo             EU, N.America  2020-03-17   \n",
       "3                  Easter Promo  EU, CIS, APAC, N.America  2020-04-12   \n",
       "4             4th of July Promo                 N.America  2020-07-04   \n",
       "\n",
       "    finish_dt  \n",
       "0  2021-01-03  \n",
       "1  2020-02-16  \n",
       "2  2020-03-19  \n",
       "3  2020-04-19  \n",
       "4  2020-07-11  "
      ]
     },
     "execution_count": 30,
     "metadata": {},
     "output_type": "execute_result"
    }
   ],
   "source": [
    "ab_mkt.head()"
   ]
  },
  {
   "cell_type": "code",
   "execution_count": 31,
   "id": "67e76985-758e-4808-8e18-c4d5d9cfaa7e",
   "metadata": {},
   "outputs": [
    {
     "data": {
      "text/plain": [
       "(14, 4)"
      ]
     },
     "execution_count": 31,
     "metadata": {},
     "output_type": "execute_result"
    }
   ],
   "source": [
    "ab_mkt.shape"
   ]
  },
  {
   "cell_type": "code",
   "execution_count": 32,
   "id": "be2ee4e4-d35f-425d-ab28-ea8b9f00c857",
   "metadata": {},
   "outputs": [
    {
     "name": "stdout",
     "output_type": "stream",
     "text": [
      "<class 'pandas.core.frame.DataFrame'>\n",
      "RangeIndex: 14 entries, 0 to 13\n",
      "Data columns (total 4 columns):\n",
      " #   Column     Non-Null Count  Dtype \n",
      "---  ------     --------------  ----- \n",
      " 0   name       14 non-null     object\n",
      " 1   regions    14 non-null     object\n",
      " 2   start_dt   14 non-null     object\n",
      " 3   finish_dt  14 non-null     object\n",
      "dtypes: object(4)\n",
      "memory usage: 580.0+ bytes\n"
     ]
    }
   ],
   "source": [
    "ab_mkt.info()"
   ]
  },
  {
   "cell_type": "markdown",
   "id": "8d3391d5-c01a-43cc-9e4f-6f93da8c918c",
   "metadata": {},
   "source": [
    "    no missing values, dates type need adjust"
   ]
  },
  {
   "cell_type": "markdown",
   "id": "297b3fce-170a-4944-8812-d8a650703003",
   "metadata": {
    "jp-MarkdownHeadingCollapsed": true
   },
   "source": [
    "## functions"
   ]
  },
  {
   "cell_type": "code",
   "execution_count": 35,
   "id": "b90e0436-7482-47f1-86f0-3c6af0ed96a1",
   "metadata": {},
   "outputs": [],
   "source": [
    "#function to calculate percentage\n",
    "def per_calc(value, total):\n",
    "    if total == 0:\n",
    "        return 0 \n",
    "    else:\n",
    "        return(value/total) * 100\n",
    "        "
   ]
  },
  {
   "cell_type": "markdown",
   "id": "eb263fd3-bac4-45b9-a3b3-baa6347a147b",
   "metadata": {},
   "source": [
    "# Pre processing"
   ]
  },
  {
   "cell_type": "markdown",
   "id": "d5b46bdf-1251-4d6a-b652-097df5b17860",
   "metadata": {},
   "source": [
    "## standarizing"
   ]
  },
  {
   "cell_type": "code",
   "execution_count": 38,
   "id": "90c197d5-2295-40e4-a64b-e56238fb843c",
   "metadata": {},
   "outputs": [],
   "source": [
    "#changing data type to datetime in 'event_dt'\n",
    "ab_events['event_dt'] = pd.to_datetime(ab_events['event_dt'])"
   ]
  },
  {
   "cell_type": "code",
   "execution_count": 39,
   "id": "7198f527-191a-425c-a147-cb12e962b546",
   "metadata": {},
   "outputs": [],
   "source": [
    "#changing data type to datetime in 'first_date'\n",
    "ab_new_users['first_date'] = pd.to_datetime(ab_new_users['first_date'])"
   ]
  },
  {
   "cell_type": "code",
   "execution_count": 40,
   "id": "3b4f8732-856a-48c1-accd-9911ef91cc93",
   "metadata": {},
   "outputs": [],
   "source": [
    "#changing data type to datetime in 'start_dt'\n",
    "ab_mkt['start_dt'] = pd.to_datetime(ab_mkt['start_dt'])"
   ]
  },
  {
   "cell_type": "code",
   "execution_count": 41,
   "id": "7e6ef424-43e1-4891-9ab7-ff0a13fb0e7a",
   "metadata": {},
   "outputs": [],
   "source": [
    "#changing data type to datetime in 'finish_dt'\n",
    "ab_mkt['finish_dt'] = pd.to_datetime(ab_mkt['finish_dt'])"
   ]
  },
  {
   "cell_type": "markdown",
   "id": "f5fa0994-3ff9-4b3f-b010-25a12dfe0955",
   "metadata": {},
   "source": [
    "## missing values"
   ]
  },
  {
   "cell_type": "code",
   "execution_count": 43,
   "id": "db28af61-0af4-4dd3-bff5-53472519bf12",
   "metadata": {},
   "outputs": [
    {
     "data": {
      "text/plain": [
       "array([ 99.99,   9.99,   4.99, 499.99,    nan])"
      ]
     },
     "execution_count": 43,
     "metadata": {},
     "output_type": "execute_result"
    }
   ],
   "source": [
    "#unique values in 'details'\n",
    "ab_events['details'].unique()"
   ]
  },
  {
   "cell_type": "code",
   "execution_count": 44,
   "id": "de6b54d7-4503-4173-811c-f90039db8515",
   "metadata": {},
   "outputs": [
    {
     "data": {
      "text/plain": [
       "user_id        0.000000\n",
       "event_dt       0.000000\n",
       "event_name     0.000000\n",
       "details       85.766977\n",
       "dtype: float64"
      ]
     },
     "execution_count": 44,
     "metadata": {},
     "output_type": "execute_result"
    }
   ],
   "source": [
    "#calculating percentage of values missing\n",
    "ab_events.isna().mean() * 100"
   ]
  },
  {
   "cell_type": "markdown",
   "id": "f977ca54-afea-43c1-a19c-d02b1247adec",
   "metadata": {},
   "source": [
    "    85% of data in details are missing"
   ]
  },
  {
   "cell_type": "code",
   "execution_count": 46,
   "id": "c394cd96-c4ab-49c9-8d9c-56e0f90dc8f0",
   "metadata": {},
   "outputs": [
    {
     "data": {
      "text/plain": [
       "event_name\n",
       "login               0\n",
       "product_cart        0\n",
       "product_page        0\n",
       "purchase        60314\n",
       "Name: details, dtype: int64"
      ]
     },
     "execution_count": 46,
     "metadata": {},
     "output_type": "execute_result"
    }
   ],
   "source": [
    "ab_events.groupby('event_name')['details'].count()"
   ]
  },
  {
   "cell_type": "code",
   "execution_count": 47,
   "id": "a1956ed0-f9bc-4283-89f8-7c77bd77e200",
   "metadata": {},
   "outputs": [
    {
     "data": {
      "text/plain": [
       "event_name\n",
       "login           182465\n",
       "product_cart     60120\n",
       "product_page    120862\n",
       "purchase         60314\n",
       "Name: user_id, dtype: int64"
      ]
     },
     "execution_count": 47,
     "metadata": {},
     "output_type": "execute_result"
    }
   ],
   "source": [
    "ab_events.groupby('event_name')['user_id'].count()"
   ]
  },
  {
   "cell_type": "markdown",
   "id": "fcd92e8d-aca9-4393-b6c4-1eeab74d6ba2",
   "metadata": {},
   "source": [
    "    details data only shown at purchase event, which makes sense."
   ]
  },
  {
   "cell_type": "code",
   "execution_count": 49,
   "id": "df9ad558-9f58-4063-b5f1-249b2da0af65",
   "metadata": {},
   "outputs": [],
   "source": [
    "#filling n/a values with 0\n",
    "ab_events['details'].fillna(0, inplace=True)"
   ]
  },
  {
   "cell_type": "code",
   "execution_count": 50,
   "id": "61394ff1-1069-4ca5-828c-1432eca79b1b",
   "metadata": {},
   "outputs": [
    {
     "data": {
      "text/plain": [
       "user_id       0.0\n",
       "event_dt      0.0\n",
       "event_name    0.0\n",
       "details       0.0\n",
       "dtype: float64"
      ]
     },
     "execution_count": 50,
     "metadata": {},
     "output_type": "execute_result"
    }
   ],
   "source": [
    "ab_events.isna().mean() * 100"
   ]
  },
  {
   "cell_type": "markdown",
   "id": "cf12405e-c707-4802-a204-c860262c8d3b",
   "metadata": {},
   "source": [
    "    n/a values in details filled with 0"
   ]
  },
  {
   "cell_type": "markdown",
   "id": "0aab42b4-f190-428a-b9f8-828499a9cc3c",
   "metadata": {},
   "source": [
    "## duplicates"
   ]
  },
  {
   "cell_type": "code",
   "execution_count": 53,
   "id": "c99b6170-69a1-40ce-8c9d-2126307c7a49",
   "metadata": {},
   "outputs": [
    {
     "data": {
      "text/plain": [
       "False    423761\n",
       "Name: count, dtype: int64"
      ]
     },
     "execution_count": 53,
     "metadata": {},
     "output_type": "execute_result"
    }
   ],
   "source": [
    "#counting duplicated ab_events\n",
    "ab_events.duplicated().value_counts()"
   ]
  },
  {
   "cell_type": "markdown",
   "id": "e333483d-ef07-4297-8083-2a5b9c180d13",
   "metadata": {},
   "source": [
    "    no duplicated values found in ab_avents"
   ]
  },
  {
   "cell_type": "code",
   "execution_count": 55,
   "id": "7c5e96c1-7992-4d8b-9055-082b10665c27",
   "metadata": {},
   "outputs": [
    {
     "data": {
      "text/plain": [
       "user_id\n",
       "False    58703\n",
       "Name: count, dtype: int64"
      ]
     },
     "execution_count": 55,
     "metadata": {},
     "output_type": "execute_result"
    }
   ],
   "source": [
    "#checking for duplicated 'user_id'\n",
    "ab_new_users['user_id'].duplicated().value_counts()"
   ]
  },
  {
   "cell_type": "markdown",
   "id": "423c1e20-6cb3-4b73-b577-f23db9fd5f40",
   "metadata": {},
   "source": [
    "    no repetition of users indicates concise data regarding new users"
   ]
  },
  {
   "cell_type": "code",
   "execution_count": 57,
   "id": "b74dc77e-457d-4fd0-9e33-4569a8bf6c4d",
   "metadata": {},
   "outputs": [
    {
     "data": {
      "text/plain": [
       "False    58703\n",
       "Name: count, dtype: int64"
      ]
     },
     "execution_count": 57,
     "metadata": {},
     "output_type": "execute_result"
    }
   ],
   "source": [
    "#counting duplicated in ab_new_users\n",
    "ab_new_users.duplicated().value_counts()"
   ]
  },
  {
   "cell_type": "markdown",
   "id": "9b378b7c-60b1-42fd-86d3-062817ec74ba",
   "metadata": {},
   "source": [
    "    no duplicated values found in ab_new_users"
   ]
  },
  {
   "cell_type": "code",
   "execution_count": 59,
   "id": "c999a58f-48a1-49c3-ba19-7548ae9fb497",
   "metadata": {},
   "outputs": [
    {
     "data": {
      "text/plain": [
       "False    14525\n",
       "Name: count, dtype: int64"
      ]
     },
     "execution_count": 59,
     "metadata": {},
     "output_type": "execute_result"
    }
   ],
   "source": [
    "#counting duplicated in ab_participants\n",
    "ab_participants.duplicated().value_counts()"
   ]
  },
  {
   "cell_type": "markdown",
   "id": "26825477-0a05-47a1-96ed-763b5bbc9e65",
   "metadata": {},
   "source": [
    "    no duplicated values found in ab_participants"
   ]
  },
  {
   "cell_type": "code",
   "execution_count": 61,
   "id": "f635472b-dd2c-4aa8-80e4-ac28bd428031",
   "metadata": {},
   "outputs": [
    {
     "data": {
      "text/plain": [
       "False    14\n",
       "Name: count, dtype: int64"
      ]
     },
     "execution_count": 61,
     "metadata": {},
     "output_type": "execute_result"
    }
   ],
   "source": [
    "ab_mkt.duplicated().value_counts()"
   ]
  },
  {
   "cell_type": "markdown",
   "id": "ff3aaa69-69f7-4427-adf8-78e5ec867c6b",
   "metadata": {},
   "source": [
    "    no duplicated values found in ab_mkt"
   ]
  },
  {
   "cell_type": "markdown",
   "id": "d48f41c2-61a5-4547-adf8-f42e718d9631",
   "metadata": {},
   "source": [
    "## enhancing data"
   ]
  },
  {
   "cell_type": "code",
   "execution_count": 64,
   "id": "e36561d2-101c-410b-a1e1-3bfb9889d35a",
   "metadata": {},
   "outputs": [
    {
     "data": {
      "text/html": [
       "<div>\n",
       "<style scoped>\n",
       "    .dataframe tbody tr th:only-of-type {\n",
       "        vertical-align: middle;\n",
       "    }\n",
       "\n",
       "    .dataframe tbody tr th {\n",
       "        vertical-align: top;\n",
       "    }\n",
       "\n",
       "    .dataframe thead th {\n",
       "        text-align: right;\n",
       "    }\n",
       "</style>\n",
       "<table border=\"1\" class=\"dataframe\">\n",
       "  <thead>\n",
       "    <tr style=\"text-align: right;\">\n",
       "      <th></th>\n",
       "      <th>user_id</th>\n",
       "      <th>event_dt</th>\n",
       "      <th>event_name</th>\n",
       "      <th>details</th>\n",
       "    </tr>\n",
       "  </thead>\n",
       "  <tbody>\n",
       "    <tr>\n",
       "      <th>0</th>\n",
       "      <td>E1BDDCE0DAFA2679</td>\n",
       "      <td>2020-12-07 20:22:03</td>\n",
       "      <td>purchase</td>\n",
       "      <td>99.99</td>\n",
       "    </tr>\n",
       "    <tr>\n",
       "      <th>1</th>\n",
       "      <td>7B6452F081F49504</td>\n",
       "      <td>2020-12-07 09:22:53</td>\n",
       "      <td>purchase</td>\n",
       "      <td>9.99</td>\n",
       "    </tr>\n",
       "    <tr>\n",
       "      <th>2</th>\n",
       "      <td>9CD9F34546DF254C</td>\n",
       "      <td>2020-12-07 12:59:29</td>\n",
       "      <td>purchase</td>\n",
       "      <td>4.99</td>\n",
       "    </tr>\n",
       "    <tr>\n",
       "      <th>3</th>\n",
       "      <td>96F27A054B191457</td>\n",
       "      <td>2020-12-07 04:02:40</td>\n",
       "      <td>purchase</td>\n",
       "      <td>4.99</td>\n",
       "    </tr>\n",
       "    <tr>\n",
       "      <th>4</th>\n",
       "      <td>1FD7660FDF94CA1F</td>\n",
       "      <td>2020-12-07 10:15:09</td>\n",
       "      <td>purchase</td>\n",
       "      <td>4.99</td>\n",
       "    </tr>\n",
       "  </tbody>\n",
       "</table>\n",
       "</div>"
      ],
      "text/plain": [
       "            user_id            event_dt event_name  details\n",
       "0  E1BDDCE0DAFA2679 2020-12-07 20:22:03   purchase    99.99\n",
       "1  7B6452F081F49504 2020-12-07 09:22:53   purchase     9.99\n",
       "2  9CD9F34546DF254C 2020-12-07 12:59:29   purchase     4.99\n",
       "3  96F27A054B191457 2020-12-07 04:02:40   purchase     4.99\n",
       "4  1FD7660FDF94CA1F 2020-12-07 10:15:09   purchase     4.99"
      ]
     },
     "execution_count": 64,
     "metadata": {},
     "output_type": "execute_result"
    }
   ],
   "source": [
    "ab_events.head()"
   ]
  },
  {
   "cell_type": "code",
   "execution_count": 65,
   "id": "083e887a-58dd-43cd-ab70-1664a6e4e060",
   "metadata": {},
   "outputs": [],
   "source": [
    "#adding date column\n",
    "ab_events['date'] = ab_events['event_dt'].dt.date"
   ]
  },
  {
   "cell_type": "code",
   "execution_count": 66,
   "id": "ae5fccf2-af54-4c4a-b452-5ef64fbc1df9",
   "metadata": {},
   "outputs": [],
   "source": [
    "ab_events['day'] = ab_events['event_dt'].dt.day"
   ]
  },
  {
   "cell_type": "code",
   "execution_count": 67,
   "id": "caac13c0-618d-4e19-a21d-ccdadfa996bf",
   "metadata": {},
   "outputs": [],
   "source": [
    "ab_events['week'] = ab_events['event_dt'].dt.isocalendar().week"
   ]
  },
  {
   "cell_type": "code",
   "execution_count": 68,
   "id": "7ee6f17d-d786-4558-beef-7eda392b29fd",
   "metadata": {},
   "outputs": [],
   "source": [
    "ab_events['month'] = ab_events['event_dt'].dt.month"
   ]
  },
  {
   "cell_type": "markdown",
   "id": "47bce485-7c60-4ff5-8792-c5581e3eadc6",
   "metadata": {},
   "source": [
    "## merging tables"
   ]
  },
  {
   "cell_type": "code",
   "execution_count": 70,
   "id": "b37f3350-a5ce-4d6e-b76f-686a82b4da43",
   "metadata": {},
   "outputs": [
    {
     "data": {
      "text/html": [
       "<div>\n",
       "<style scoped>\n",
       "    .dataframe tbody tr th:only-of-type {\n",
       "        vertical-align: middle;\n",
       "    }\n",
       "\n",
       "    .dataframe tbody tr th {\n",
       "        vertical-align: top;\n",
       "    }\n",
       "\n",
       "    .dataframe thead th {\n",
       "        text-align: right;\n",
       "    }\n",
       "</style>\n",
       "<table border=\"1\" class=\"dataframe\">\n",
       "  <thead>\n",
       "    <tr style=\"text-align: right;\">\n",
       "      <th></th>\n",
       "      <th>user_id</th>\n",
       "      <th>event_dt</th>\n",
       "      <th>event_name</th>\n",
       "      <th>details</th>\n",
       "      <th>date</th>\n",
       "      <th>day</th>\n",
       "      <th>week</th>\n",
       "      <th>month</th>\n",
       "    </tr>\n",
       "  </thead>\n",
       "  <tbody>\n",
       "    <tr>\n",
       "      <th>0</th>\n",
       "      <td>E1BDDCE0DAFA2679</td>\n",
       "      <td>2020-12-07 20:22:03</td>\n",
       "      <td>purchase</td>\n",
       "      <td>99.99</td>\n",
       "      <td>2020-12-07</td>\n",
       "      <td>7</td>\n",
       "      <td>50</td>\n",
       "      <td>12</td>\n",
       "    </tr>\n",
       "    <tr>\n",
       "      <th>1</th>\n",
       "      <td>7B6452F081F49504</td>\n",
       "      <td>2020-12-07 09:22:53</td>\n",
       "      <td>purchase</td>\n",
       "      <td>9.99</td>\n",
       "      <td>2020-12-07</td>\n",
       "      <td>7</td>\n",
       "      <td>50</td>\n",
       "      <td>12</td>\n",
       "    </tr>\n",
       "    <tr>\n",
       "      <th>2</th>\n",
       "      <td>9CD9F34546DF254C</td>\n",
       "      <td>2020-12-07 12:59:29</td>\n",
       "      <td>purchase</td>\n",
       "      <td>4.99</td>\n",
       "      <td>2020-12-07</td>\n",
       "      <td>7</td>\n",
       "      <td>50</td>\n",
       "      <td>12</td>\n",
       "    </tr>\n",
       "    <tr>\n",
       "      <th>3</th>\n",
       "      <td>96F27A054B191457</td>\n",
       "      <td>2020-12-07 04:02:40</td>\n",
       "      <td>purchase</td>\n",
       "      <td>4.99</td>\n",
       "      <td>2020-12-07</td>\n",
       "      <td>7</td>\n",
       "      <td>50</td>\n",
       "      <td>12</td>\n",
       "    </tr>\n",
       "    <tr>\n",
       "      <th>4</th>\n",
       "      <td>1FD7660FDF94CA1F</td>\n",
       "      <td>2020-12-07 10:15:09</td>\n",
       "      <td>purchase</td>\n",
       "      <td>4.99</td>\n",
       "      <td>2020-12-07</td>\n",
       "      <td>7</td>\n",
       "      <td>50</td>\n",
       "      <td>12</td>\n",
       "    </tr>\n",
       "  </tbody>\n",
       "</table>\n",
       "</div>"
      ],
      "text/plain": [
       "            user_id            event_dt event_name  details        date  day  \\\n",
       "0  E1BDDCE0DAFA2679 2020-12-07 20:22:03   purchase    99.99  2020-12-07    7   \n",
       "1  7B6452F081F49504 2020-12-07 09:22:53   purchase     9.99  2020-12-07    7   \n",
       "2  9CD9F34546DF254C 2020-12-07 12:59:29   purchase     4.99  2020-12-07    7   \n",
       "3  96F27A054B191457 2020-12-07 04:02:40   purchase     4.99  2020-12-07    7   \n",
       "4  1FD7660FDF94CA1F 2020-12-07 10:15:09   purchase     4.99  2020-12-07    7   \n",
       "\n",
       "   week  month  \n",
       "0    50     12  \n",
       "1    50     12  \n",
       "2    50     12  \n",
       "3    50     12  \n",
       "4    50     12  "
      ]
     },
     "execution_count": 70,
     "metadata": {},
     "output_type": "execute_result"
    }
   ],
   "source": [
    "ab_events.head()"
   ]
  },
  {
   "cell_type": "code",
   "execution_count": 71,
   "id": "a46de3f7-70fc-4063-8626-05ad1463d639",
   "metadata": {},
   "outputs": [
    {
     "data": {
      "text/html": [
       "<div>\n",
       "<style scoped>\n",
       "    .dataframe tbody tr th:only-of-type {\n",
       "        vertical-align: middle;\n",
       "    }\n",
       "\n",
       "    .dataframe tbody tr th {\n",
       "        vertical-align: top;\n",
       "    }\n",
       "\n",
       "    .dataframe thead th {\n",
       "        text-align: right;\n",
       "    }\n",
       "</style>\n",
       "<table border=\"1\" class=\"dataframe\">\n",
       "  <thead>\n",
       "    <tr style=\"text-align: right;\">\n",
       "      <th></th>\n",
       "      <th>user_id</th>\n",
       "      <th>group</th>\n",
       "      <th>ab_test</th>\n",
       "    </tr>\n",
       "  </thead>\n",
       "  <tbody>\n",
       "    <tr>\n",
       "      <th>0</th>\n",
       "      <td>D1ABA3E2887B6A73</td>\n",
       "      <td>A</td>\n",
       "      <td>recommender_system_test</td>\n",
       "    </tr>\n",
       "    <tr>\n",
       "      <th>1</th>\n",
       "      <td>A7A3664BD6242119</td>\n",
       "      <td>A</td>\n",
       "      <td>recommender_system_test</td>\n",
       "    </tr>\n",
       "    <tr>\n",
       "      <th>2</th>\n",
       "      <td>DABC14FDDFADD29E</td>\n",
       "      <td>A</td>\n",
       "      <td>recommender_system_test</td>\n",
       "    </tr>\n",
       "    <tr>\n",
       "      <th>3</th>\n",
       "      <td>04988C5DF189632E</td>\n",
       "      <td>A</td>\n",
       "      <td>recommender_system_test</td>\n",
       "    </tr>\n",
       "    <tr>\n",
       "      <th>4</th>\n",
       "      <td>4FF2998A348C484F</td>\n",
       "      <td>A</td>\n",
       "      <td>recommender_system_test</td>\n",
       "    </tr>\n",
       "  </tbody>\n",
       "</table>\n",
       "</div>"
      ],
      "text/plain": [
       "            user_id group                  ab_test\n",
       "0  D1ABA3E2887B6A73     A  recommender_system_test\n",
       "1  A7A3664BD6242119     A  recommender_system_test\n",
       "2  DABC14FDDFADD29E     A  recommender_system_test\n",
       "3  04988C5DF189632E     A  recommender_system_test\n",
       "4  4FF2998A348C484F     A  recommender_system_test"
      ]
     },
     "execution_count": 71,
     "metadata": {},
     "output_type": "execute_result"
    }
   ],
   "source": [
    "ab_participants.head()"
   ]
  },
  {
   "cell_type": "code",
   "execution_count": 72,
   "id": "3d2248b2-0132-4e50-99d2-034660f4248e",
   "metadata": {},
   "outputs": [
    {
     "data": {
      "text/html": [
       "<div>\n",
       "<style scoped>\n",
       "    .dataframe tbody tr th:only-of-type {\n",
       "        vertical-align: middle;\n",
       "    }\n",
       "\n",
       "    .dataframe tbody tr th {\n",
       "        vertical-align: top;\n",
       "    }\n",
       "\n",
       "    .dataframe thead th {\n",
       "        text-align: right;\n",
       "    }\n",
       "</style>\n",
       "<table border=\"1\" class=\"dataframe\">\n",
       "  <thead>\n",
       "    <tr style=\"text-align: right;\">\n",
       "      <th></th>\n",
       "      <th>user_id</th>\n",
       "      <th>first_date</th>\n",
       "      <th>region</th>\n",
       "      <th>device</th>\n",
       "    </tr>\n",
       "  </thead>\n",
       "  <tbody>\n",
       "    <tr>\n",
       "      <th>0</th>\n",
       "      <td>D72A72121175D8BE</td>\n",
       "      <td>2020-12-07</td>\n",
       "      <td>EU</td>\n",
       "      <td>PC</td>\n",
       "    </tr>\n",
       "    <tr>\n",
       "      <th>1</th>\n",
       "      <td>F1C668619DFE6E65</td>\n",
       "      <td>2020-12-07</td>\n",
       "      <td>N.America</td>\n",
       "      <td>Android</td>\n",
       "    </tr>\n",
       "    <tr>\n",
       "      <th>2</th>\n",
       "      <td>2E1BF1D4C37EA01F</td>\n",
       "      <td>2020-12-07</td>\n",
       "      <td>EU</td>\n",
       "      <td>PC</td>\n",
       "    </tr>\n",
       "    <tr>\n",
       "      <th>3</th>\n",
       "      <td>50734A22C0C63768</td>\n",
       "      <td>2020-12-07</td>\n",
       "      <td>EU</td>\n",
       "      <td>iPhone</td>\n",
       "    </tr>\n",
       "    <tr>\n",
       "      <th>4</th>\n",
       "      <td>E1BDDCE0DAFA2679</td>\n",
       "      <td>2020-12-07</td>\n",
       "      <td>N.America</td>\n",
       "      <td>iPhone</td>\n",
       "    </tr>\n",
       "  </tbody>\n",
       "</table>\n",
       "</div>"
      ],
      "text/plain": [
       "            user_id first_date     region   device\n",
       "0  D72A72121175D8BE 2020-12-07         EU       PC\n",
       "1  F1C668619DFE6E65 2020-12-07  N.America  Android\n",
       "2  2E1BF1D4C37EA01F 2020-12-07         EU       PC\n",
       "3  50734A22C0C63768 2020-12-07         EU   iPhone\n",
       "4  E1BDDCE0DAFA2679 2020-12-07  N.America   iPhone"
      ]
     },
     "execution_count": 72,
     "metadata": {},
     "output_type": "execute_result"
    }
   ],
   "source": [
    "ab_new_users.head()"
   ]
  },
  {
   "cell_type": "code",
   "execution_count": 73,
   "id": "e738889c-671d-46eb-bbd1-f3f6269141f4",
   "metadata": {},
   "outputs": [
    {
     "data": {
      "text/html": [
       "<div>\n",
       "<style scoped>\n",
       "    .dataframe tbody tr th:only-of-type {\n",
       "        vertical-align: middle;\n",
       "    }\n",
       "\n",
       "    .dataframe tbody tr th {\n",
       "        vertical-align: top;\n",
       "    }\n",
       "\n",
       "    .dataframe thead th {\n",
       "        text-align: right;\n",
       "    }\n",
       "</style>\n",
       "<table border=\"1\" class=\"dataframe\">\n",
       "  <thead>\n",
       "    <tr style=\"text-align: right;\">\n",
       "      <th></th>\n",
       "      <th>user_id</th>\n",
       "      <th>group</th>\n",
       "      <th>ab_test</th>\n",
       "      <th>first_date</th>\n",
       "      <th>region</th>\n",
       "      <th>device</th>\n",
       "    </tr>\n",
       "  </thead>\n",
       "  <tbody>\n",
       "    <tr>\n",
       "      <th>0</th>\n",
       "      <td>D1ABA3E2887B6A73</td>\n",
       "      <td>A</td>\n",
       "      <td>recommender_system_test</td>\n",
       "      <td>2020-12-07</td>\n",
       "      <td>EU</td>\n",
       "      <td>PC</td>\n",
       "    </tr>\n",
       "    <tr>\n",
       "      <th>1</th>\n",
       "      <td>A7A3664BD6242119</td>\n",
       "      <td>A</td>\n",
       "      <td>recommender_system_test</td>\n",
       "      <td>2020-12-20</td>\n",
       "      <td>EU</td>\n",
       "      <td>iPhone</td>\n",
       "    </tr>\n",
       "    <tr>\n",
       "      <th>2</th>\n",
       "      <td>DABC14FDDFADD29E</td>\n",
       "      <td>A</td>\n",
       "      <td>recommender_system_test</td>\n",
       "      <td>2020-12-08</td>\n",
       "      <td>EU</td>\n",
       "      <td>Mac</td>\n",
       "    </tr>\n",
       "    <tr>\n",
       "      <th>3</th>\n",
       "      <td>04988C5DF189632E</td>\n",
       "      <td>A</td>\n",
       "      <td>recommender_system_test</td>\n",
       "      <td>2020-12-14</td>\n",
       "      <td>EU</td>\n",
       "      <td>iPhone</td>\n",
       "    </tr>\n",
       "    <tr>\n",
       "      <th>4</th>\n",
       "      <td>4FF2998A348C484F</td>\n",
       "      <td>A</td>\n",
       "      <td>recommender_system_test</td>\n",
       "      <td>2020-12-20</td>\n",
       "      <td>EU</td>\n",
       "      <td>Mac</td>\n",
       "    </tr>\n",
       "  </tbody>\n",
       "</table>\n",
       "</div>"
      ],
      "text/plain": [
       "            user_id group                  ab_test first_date region  device\n",
       "0  D1ABA3E2887B6A73     A  recommender_system_test 2020-12-07     EU      PC\n",
       "1  A7A3664BD6242119     A  recommender_system_test 2020-12-20     EU  iPhone\n",
       "2  DABC14FDDFADD29E     A  recommender_system_test 2020-12-08     EU     Mac\n",
       "3  04988C5DF189632E     A  recommender_system_test 2020-12-14     EU  iPhone\n",
       "4  4FF2998A348C484F     A  recommender_system_test 2020-12-20     EU     Mac"
      ]
     },
     "execution_count": 73,
     "metadata": {},
     "output_type": "execute_result"
    }
   ],
   "source": [
    "#merging new users and participants\n",
    "new_users_participants = ab_participants.merge(ab_new_users, on='user_id', how='left')\n",
    "new_users_participants.head()"
   ]
  },
  {
   "cell_type": "code",
   "execution_count": 74,
   "id": "69cda70d-7e1b-44e4-a86e-31c607d66351",
   "metadata": {},
   "outputs": [
    {
     "data": {
      "text/plain": [
       "user_id       0.0\n",
       "group         0.0\n",
       "ab_test       0.0\n",
       "first_date    0.0\n",
       "region        0.0\n",
       "device        0.0\n",
       "dtype: float64"
      ]
     },
     "execution_count": 74,
     "metadata": {},
     "output_type": "execute_result"
    }
   ],
   "source": [
    "new_users_participants.isna().mean()*100"
   ]
  },
  {
   "cell_type": "markdown",
   "id": "e56ee869-93af-46d0-bbf6-e3c2cbd18250",
   "metadata": {},
   "source": [
    "    no missing values found after merging"
   ]
  },
  {
   "cell_type": "code",
   "execution_count": 76,
   "id": "51883567-32a2-4107-8e65-f3f1fde2c50e",
   "metadata": {},
   "outputs": [
    {
     "data": {
      "text/plain": [
       "False    14525\n",
       "Name: count, dtype: int64"
      ]
     },
     "execution_count": 76,
     "metadata": {},
     "output_type": "execute_result"
    }
   ],
   "source": [
    "new_users_participants.duplicated().value_counts()"
   ]
  },
  {
   "cell_type": "markdown",
   "id": "89e20038-ac4a-4733-bf28-df2a799ce045",
   "metadata": {},
   "source": [
    "    no duplicates found"
   ]
  },
  {
   "cell_type": "code",
   "execution_count": 78,
   "id": "10ad9281-71e3-48d5-9d8f-8e781b27c631",
   "metadata": {},
   "outputs": [],
   "source": [
    "#merging events and new users participants table\n",
    "events_participants = ab_events.merge(new_users_participants, on='user_id', how='left')"
   ]
  },
  {
   "cell_type": "code",
   "execution_count": 79,
   "id": "6b0258ad-bf4f-4605-841c-3009ca3a66e2",
   "metadata": {},
   "outputs": [
    {
     "data": {
      "text/plain": [
       "user_id        0.000000\n",
       "event_dt       0.000000\n",
       "event_name     0.000000\n",
       "details        0.000000\n",
       "date           0.000000\n",
       "day            0.000000\n",
       "week           0.000000\n",
       "month          0.000000\n",
       "group         76.055007\n",
       "ab_test       76.055007\n",
       "first_date    76.055007\n",
       "region        76.055007\n",
       "device        76.055007\n",
       "dtype: float64"
      ]
     },
     "execution_count": 79,
     "metadata": {},
     "output_type": "execute_result"
    }
   ],
   "source": [
    "#calculating N/A values in new merged table\n",
    "events_participants.isna().mean()*100"
   ]
  },
  {
   "cell_type": "markdown",
   "id": "815a5eca-409d-4fe6-91f0-e6749d9adb2d",
   "metadata": {},
   "source": [
    "    only 23.95% of all data has participated the a/b test, will only use this data for analysis"
   ]
  },
  {
   "cell_type": "code",
   "execution_count": 81,
   "id": "4660ca7b-d95c-47f7-ac35-17793e8f239a",
   "metadata": {},
   "outputs": [],
   "source": [
    "#dropping users that did not participate test\n",
    "events_participants.dropna(subset=['group','ab_test','first_date', 'region', 'device'], inplace=True)"
   ]
  },
  {
   "cell_type": "code",
   "execution_count": 82,
   "id": "90852198-e67b-4ca7-9508-4d80f5a11bca",
   "metadata": {},
   "outputs": [
    {
     "data": {
      "text/plain": [
       "user_id       0.0\n",
       "event_dt      0.0\n",
       "event_name    0.0\n",
       "details       0.0\n",
       "date          0.0\n",
       "day           0.0\n",
       "week          0.0\n",
       "month         0.0\n",
       "group         0.0\n",
       "ab_test       0.0\n",
       "first_date    0.0\n",
       "region        0.0\n",
       "device        0.0\n",
       "dtype: float64"
      ]
     },
     "execution_count": 82,
     "metadata": {},
     "output_type": "execute_result"
    }
   ],
   "source": [
    "#calculating N/A values left \n",
    "events_participants.isna().mean()*100"
   ]
  },
  {
   "cell_type": "code",
   "execution_count": 83,
   "id": "f974c9ca-a9ff-43d1-9610-b5e292c5808b",
   "metadata": {},
   "outputs": [
    {
     "data": {
      "text/plain": [
       "(102838, 13)"
      ]
     },
     "execution_count": 83,
     "metadata": {},
     "output_type": "execute_result"
    }
   ],
   "source": [
    "events_participants.shape"
   ]
  },
  {
   "cell_type": "code",
   "execution_count": 84,
   "id": "ba2b5760-f266-4474-81c8-cc98f5ab9925",
   "metadata": {},
   "outputs": [
    {
     "data": {
      "text/html": [
       "<div>\n",
       "<style scoped>\n",
       "    .dataframe tbody tr th:only-of-type {\n",
       "        vertical-align: middle;\n",
       "    }\n",
       "\n",
       "    .dataframe tbody tr th {\n",
       "        vertical-align: top;\n",
       "    }\n",
       "\n",
       "    .dataframe thead th {\n",
       "        text-align: right;\n",
       "    }\n",
       "</style>\n",
       "<table border=\"1\" class=\"dataframe\">\n",
       "  <thead>\n",
       "    <tr style=\"text-align: right;\">\n",
       "      <th></th>\n",
       "      <th>user_id</th>\n",
       "      <th>event_dt</th>\n",
       "      <th>event_name</th>\n",
       "      <th>details</th>\n",
       "      <th>date</th>\n",
       "      <th>day</th>\n",
       "      <th>week</th>\n",
       "      <th>month</th>\n",
       "      <th>group</th>\n",
       "      <th>ab_test</th>\n",
       "      <th>first_date</th>\n",
       "      <th>region</th>\n",
       "      <th>device</th>\n",
       "    </tr>\n",
       "  </thead>\n",
       "  <tbody>\n",
       "    <tr>\n",
       "      <th>3</th>\n",
       "      <td>96F27A054B191457</td>\n",
       "      <td>2020-12-07 04:02:40</td>\n",
       "      <td>purchase</td>\n",
       "      <td>4.99</td>\n",
       "      <td>2020-12-07</td>\n",
       "      <td>7</td>\n",
       "      <td>50</td>\n",
       "      <td>12</td>\n",
       "      <td>B</td>\n",
       "      <td>interface_eu_test</td>\n",
       "      <td>2020-12-07</td>\n",
       "      <td>EU</td>\n",
       "      <td>iPhone</td>\n",
       "    </tr>\n",
       "    <tr>\n",
       "      <th>5</th>\n",
       "      <td>831887FE7F2D6CBA</td>\n",
       "      <td>2020-12-07 06:50:29</td>\n",
       "      <td>purchase</td>\n",
       "      <td>4.99</td>\n",
       "      <td>2020-12-07</td>\n",
       "      <td>7</td>\n",
       "      <td>50</td>\n",
       "      <td>12</td>\n",
       "      <td>A</td>\n",
       "      <td>recommender_system_test</td>\n",
       "      <td>2020-12-07</td>\n",
       "      <td>EU</td>\n",
       "      <td>Android</td>\n",
       "    </tr>\n",
       "    <tr>\n",
       "      <th>9</th>\n",
       "      <td>A92195E3CFB83DBD</td>\n",
       "      <td>2020-12-07 00:32:07</td>\n",
       "      <td>purchase</td>\n",
       "      <td>4.99</td>\n",
       "      <td>2020-12-07</td>\n",
       "      <td>7</td>\n",
       "      <td>50</td>\n",
       "      <td>12</td>\n",
       "      <td>A</td>\n",
       "      <td>interface_eu_test</td>\n",
       "      <td>2020-12-07</td>\n",
       "      <td>EU</td>\n",
       "      <td>Android</td>\n",
       "    </tr>\n",
       "    <tr>\n",
       "      <th>11</th>\n",
       "      <td>354D653172FF2A2D</td>\n",
       "      <td>2020-12-07 15:45:11</td>\n",
       "      <td>purchase</td>\n",
       "      <td>4.99</td>\n",
       "      <td>2020-12-07</td>\n",
       "      <td>7</td>\n",
       "      <td>50</td>\n",
       "      <td>12</td>\n",
       "      <td>A</td>\n",
       "      <td>interface_eu_test</td>\n",
       "      <td>2020-12-07</td>\n",
       "      <td>EU</td>\n",
       "      <td>Mac</td>\n",
       "    </tr>\n",
       "    <tr>\n",
       "      <th>12</th>\n",
       "      <td>7FCD34F47C13A9AC</td>\n",
       "      <td>2020-12-07 22:06:13</td>\n",
       "      <td>purchase</td>\n",
       "      <td>9.99</td>\n",
       "      <td>2020-12-07</td>\n",
       "      <td>7</td>\n",
       "      <td>50</td>\n",
       "      <td>12</td>\n",
       "      <td>B</td>\n",
       "      <td>interface_eu_test</td>\n",
       "      <td>2020-12-07</td>\n",
       "      <td>EU</td>\n",
       "      <td>PC</td>\n",
       "    </tr>\n",
       "    <tr>\n",
       "      <th>...</th>\n",
       "      <td>...</td>\n",
       "      <td>...</td>\n",
       "      <td>...</td>\n",
       "      <td>...</td>\n",
       "      <td>...</td>\n",
       "      <td>...</td>\n",
       "      <td>...</td>\n",
       "      <td>...</td>\n",
       "      <td>...</td>\n",
       "      <td>...</td>\n",
       "      <td>...</td>\n",
       "      <td>...</td>\n",
       "      <td>...</td>\n",
       "    </tr>\n",
       "    <tr>\n",
       "      <th>429448</th>\n",
       "      <td>75845C83258FBF73</td>\n",
       "      <td>2020-12-30 06:42:52</td>\n",
       "      <td>login</td>\n",
       "      <td>0.00</td>\n",
       "      <td>2020-12-30</td>\n",
       "      <td>30</td>\n",
       "      <td>53</td>\n",
       "      <td>12</td>\n",
       "      <td>B</td>\n",
       "      <td>recommender_system_test</td>\n",
       "      <td>2020-12-07</td>\n",
       "      <td>EU</td>\n",
       "      <td>Android</td>\n",
       "    </tr>\n",
       "    <tr>\n",
       "      <th>429450</th>\n",
       "      <td>4584E51B99DE51AE</td>\n",
       "      <td>2020-12-30 07:39:32</td>\n",
       "      <td>login</td>\n",
       "      <td>0.00</td>\n",
       "      <td>2020-12-30</td>\n",
       "      <td>30</td>\n",
       "      <td>53</td>\n",
       "      <td>12</td>\n",
       "      <td>A</td>\n",
       "      <td>interface_eu_test</td>\n",
       "      <td>2020-12-07</td>\n",
       "      <td>EU</td>\n",
       "      <td>Mac</td>\n",
       "    </tr>\n",
       "    <tr>\n",
       "      <th>429451</th>\n",
       "      <td>9DF4F595A906A0BA</td>\n",
       "      <td>2020-12-30 18:28:55</td>\n",
       "      <td>login</td>\n",
       "      <td>0.00</td>\n",
       "      <td>2020-12-30</td>\n",
       "      <td>30</td>\n",
       "      <td>53</td>\n",
       "      <td>12</td>\n",
       "      <td>B</td>\n",
       "      <td>interface_eu_test</td>\n",
       "      <td>2020-12-07</td>\n",
       "      <td>EU</td>\n",
       "      <td>Android</td>\n",
       "    </tr>\n",
       "    <tr>\n",
       "      <th>429470</th>\n",
       "      <td>6181F3835EBE66BF</td>\n",
       "      <td>2020-12-30 12:00:00</td>\n",
       "      <td>login</td>\n",
       "      <td>0.00</td>\n",
       "      <td>2020-12-30</td>\n",
       "      <td>30</td>\n",
       "      <td>53</td>\n",
       "      <td>12</td>\n",
       "      <td>A</td>\n",
       "      <td>interface_eu_test</td>\n",
       "      <td>2020-12-07</td>\n",
       "      <td>EU</td>\n",
       "      <td>Android</td>\n",
       "    </tr>\n",
       "    <tr>\n",
       "      <th>429474</th>\n",
       "      <td>F80C9BDDEA02E53C</td>\n",
       "      <td>2020-12-30 09:53:39</td>\n",
       "      <td>login</td>\n",
       "      <td>0.00</td>\n",
       "      <td>2020-12-30</td>\n",
       "      <td>30</td>\n",
       "      <td>53</td>\n",
       "      <td>12</td>\n",
       "      <td>A</td>\n",
       "      <td>interface_eu_test</td>\n",
       "      <td>2020-12-07</td>\n",
       "      <td>EU</td>\n",
       "      <td>iPhone</td>\n",
       "    </tr>\n",
       "  </tbody>\n",
       "</table>\n",
       "<p>102838 rows × 13 columns</p>\n",
       "</div>"
      ],
      "text/plain": [
       "                 user_id            event_dt event_name  details        date  \\\n",
       "3       96F27A054B191457 2020-12-07 04:02:40   purchase     4.99  2020-12-07   \n",
       "5       831887FE7F2D6CBA 2020-12-07 06:50:29   purchase     4.99  2020-12-07   \n",
       "9       A92195E3CFB83DBD 2020-12-07 00:32:07   purchase     4.99  2020-12-07   \n",
       "11      354D653172FF2A2D 2020-12-07 15:45:11   purchase     4.99  2020-12-07   \n",
       "12      7FCD34F47C13A9AC 2020-12-07 22:06:13   purchase     9.99  2020-12-07   \n",
       "...                  ...                 ...        ...      ...         ...   \n",
       "429448  75845C83258FBF73 2020-12-30 06:42:52      login     0.00  2020-12-30   \n",
       "429450  4584E51B99DE51AE 2020-12-30 07:39:32      login     0.00  2020-12-30   \n",
       "429451  9DF4F595A906A0BA 2020-12-30 18:28:55      login     0.00  2020-12-30   \n",
       "429470  6181F3835EBE66BF 2020-12-30 12:00:00      login     0.00  2020-12-30   \n",
       "429474  F80C9BDDEA02E53C 2020-12-30 09:53:39      login     0.00  2020-12-30   \n",
       "\n",
       "        day  week  month group                  ab_test first_date region  \\\n",
       "3         7    50     12     B        interface_eu_test 2020-12-07     EU   \n",
       "5         7    50     12     A  recommender_system_test 2020-12-07     EU   \n",
       "9         7    50     12     A        interface_eu_test 2020-12-07     EU   \n",
       "11        7    50     12     A        interface_eu_test 2020-12-07     EU   \n",
       "12        7    50     12     B        interface_eu_test 2020-12-07     EU   \n",
       "...     ...   ...    ...   ...                      ...        ...    ...   \n",
       "429448   30    53     12     B  recommender_system_test 2020-12-07     EU   \n",
       "429450   30    53     12     A        interface_eu_test 2020-12-07     EU   \n",
       "429451   30    53     12     B        interface_eu_test 2020-12-07     EU   \n",
       "429470   30    53     12     A        interface_eu_test 2020-12-07     EU   \n",
       "429474   30    53     12     A        interface_eu_test 2020-12-07     EU   \n",
       "\n",
       "         device  \n",
       "3        iPhone  \n",
       "5       Android  \n",
       "9       Android  \n",
       "11          Mac  \n",
       "12           PC  \n",
       "...         ...  \n",
       "429448  Android  \n",
       "429450      Mac  \n",
       "429451  Android  \n",
       "429470  Android  \n",
       "429474   iPhone  \n",
       "\n",
       "[102838 rows x 13 columns]"
      ]
     },
     "execution_count": 84,
     "metadata": {},
     "output_type": "execute_result"
    }
   ],
   "source": [
    "events_participants"
   ]
  },
  {
   "cell_type": "markdown",
   "id": "2683b6a4-2056-4db3-89c1-4ce60abdbbaa",
   "metadata": {},
   "source": [
    "# Analysis"
   ]
  },
  {
   "cell_type": "markdown",
   "id": "98e853b8-8efe-4c34-952e-12f0f59b3929",
   "metadata": {},
   "source": [
    "## ab_events"
   ]
  },
  {
   "cell_type": "code",
   "execution_count": 87,
   "id": "b6680b44-fcd5-4790-82e3-f50ddf3715cf",
   "metadata": {},
   "outputs": [
    {
     "data": {
      "text/plain": [
       "7940.521739130435"
      ]
     },
     "execution_count": 87,
     "metadata": {},
     "output_type": "execute_result"
    }
   ],
   "source": [
    "#nunique group per day\n",
    "users_per_day = ab_events.groupby('date')['user_id'].nunique().mean()\n",
    "users_per_day"
   ]
  },
  {
   "cell_type": "markdown",
   "id": "6d0049ed-6eca-4e7f-b208-7eae7012802a",
   "metadata": {},
   "source": [
    "    average of 7940 users per day"
   ]
  },
  {
   "cell_type": "code",
   "execution_count": 89,
   "id": "e6b361e3-1f3f-457c-a69f-14234576702f",
   "metadata": {},
   "outputs": [
    {
     "data": {
      "text/plain": [
       "26396.75"
      ]
     },
     "execution_count": 89,
     "metadata": {},
     "output_type": "execute_result"
    }
   ],
   "source": [
    "#nunique group per week\n",
    "users_per_week = ab_events.groupby('week')['user_id'].nunique().mean()\n",
    "users_per_week"
   ]
  },
  {
   "cell_type": "markdown",
   "id": "729039ed-8f0e-4a0d-9517-bc3e16c97b8e",
   "metadata": {},
   "source": [
    "    average of 26396 per week    "
   ]
  },
  {
   "cell_type": "code",
   "execution_count": 91,
   "id": "014525c9-4d04-420c-98fd-3bedfb079f54",
   "metadata": {},
   "outputs": [
    {
     "data": {
      "text/plain": [
       "58703.0"
      ]
     },
     "execution_count": 91,
     "metadata": {},
     "output_type": "execute_result"
    }
   ],
   "source": [
    "users_per_month = ab_events.groupby('month')['user_id'].nunique().mean()\n",
    "users_per_month"
   ]
  },
  {
   "cell_type": "markdown",
   "id": "f53903f9-171a-46e2-8536-49ba3bb96e51",
   "metadata": {},
   "source": [
    "    average of 58703 users per month"
   ]
  },
  {
   "cell_type": "code",
   "execution_count": 93,
   "id": "f2ca6d30-de75-4456-b4d8-abd23c28ee08",
   "metadata": {},
   "outputs": [
    {
     "data": {
      "text/plain": [
       "18424.391304347828"
      ]
     },
     "execution_count": 93,
     "metadata": {},
     "output_type": "execute_result"
    }
   ],
   "source": [
    "daily_total = ab_events.groupby('date')['user_id'].count().mean()\n",
    "daily_total"
   ]
  },
  {
   "cell_type": "markdown",
   "id": "c3f6da2f-384f-4eea-a2cf-b5f31d9ab1f1",
   "metadata": {},
   "source": [
    "    average of 18424 daily access"
   ]
  },
  {
   "cell_type": "markdown",
   "id": "6820993a-c005-413d-9ddf-894f0929bf85",
   "metadata": {},
   "source": [
    "## events_participants"
   ]
  },
  {
   "cell_type": "code",
   "execution_count": 96,
   "id": "6758410b-1346-4c95-88e0-b59598297645",
   "metadata": {},
   "outputs": [
    {
     "data": {
      "text/html": [
       "<div>\n",
       "<style scoped>\n",
       "    .dataframe tbody tr th:only-of-type {\n",
       "        vertical-align: middle;\n",
       "    }\n",
       "\n",
       "    .dataframe tbody tr th {\n",
       "        vertical-align: top;\n",
       "    }\n",
       "\n",
       "    .dataframe thead th {\n",
       "        text-align: right;\n",
       "    }\n",
       "</style>\n",
       "<table border=\"1\" class=\"dataframe\">\n",
       "  <thead>\n",
       "    <tr style=\"text-align: right;\">\n",
       "      <th></th>\n",
       "      <th>user_id</th>\n",
       "      <th>event_dt</th>\n",
       "      <th>event_name</th>\n",
       "      <th>details</th>\n",
       "      <th>date</th>\n",
       "      <th>day</th>\n",
       "      <th>week</th>\n",
       "      <th>month</th>\n",
       "      <th>group</th>\n",
       "      <th>ab_test</th>\n",
       "      <th>first_date</th>\n",
       "      <th>region</th>\n",
       "      <th>device</th>\n",
       "    </tr>\n",
       "  </thead>\n",
       "  <tbody>\n",
       "    <tr>\n",
       "      <th>3</th>\n",
       "      <td>96F27A054B191457</td>\n",
       "      <td>2020-12-07 04:02:40</td>\n",
       "      <td>purchase</td>\n",
       "      <td>4.99</td>\n",
       "      <td>2020-12-07</td>\n",
       "      <td>7</td>\n",
       "      <td>50</td>\n",
       "      <td>12</td>\n",
       "      <td>B</td>\n",
       "      <td>interface_eu_test</td>\n",
       "      <td>2020-12-07</td>\n",
       "      <td>EU</td>\n",
       "      <td>iPhone</td>\n",
       "    </tr>\n",
       "    <tr>\n",
       "      <th>5</th>\n",
       "      <td>831887FE7F2D6CBA</td>\n",
       "      <td>2020-12-07 06:50:29</td>\n",
       "      <td>purchase</td>\n",
       "      <td>4.99</td>\n",
       "      <td>2020-12-07</td>\n",
       "      <td>7</td>\n",
       "      <td>50</td>\n",
       "      <td>12</td>\n",
       "      <td>A</td>\n",
       "      <td>recommender_system_test</td>\n",
       "      <td>2020-12-07</td>\n",
       "      <td>EU</td>\n",
       "      <td>Android</td>\n",
       "    </tr>\n",
       "    <tr>\n",
       "      <th>9</th>\n",
       "      <td>A92195E3CFB83DBD</td>\n",
       "      <td>2020-12-07 00:32:07</td>\n",
       "      <td>purchase</td>\n",
       "      <td>4.99</td>\n",
       "      <td>2020-12-07</td>\n",
       "      <td>7</td>\n",
       "      <td>50</td>\n",
       "      <td>12</td>\n",
       "      <td>A</td>\n",
       "      <td>interface_eu_test</td>\n",
       "      <td>2020-12-07</td>\n",
       "      <td>EU</td>\n",
       "      <td>Android</td>\n",
       "    </tr>\n",
       "    <tr>\n",
       "      <th>11</th>\n",
       "      <td>354D653172FF2A2D</td>\n",
       "      <td>2020-12-07 15:45:11</td>\n",
       "      <td>purchase</td>\n",
       "      <td>4.99</td>\n",
       "      <td>2020-12-07</td>\n",
       "      <td>7</td>\n",
       "      <td>50</td>\n",
       "      <td>12</td>\n",
       "      <td>A</td>\n",
       "      <td>interface_eu_test</td>\n",
       "      <td>2020-12-07</td>\n",
       "      <td>EU</td>\n",
       "      <td>Mac</td>\n",
       "    </tr>\n",
       "    <tr>\n",
       "      <th>12</th>\n",
       "      <td>7FCD34F47C13A9AC</td>\n",
       "      <td>2020-12-07 22:06:13</td>\n",
       "      <td>purchase</td>\n",
       "      <td>9.99</td>\n",
       "      <td>2020-12-07</td>\n",
       "      <td>7</td>\n",
       "      <td>50</td>\n",
       "      <td>12</td>\n",
       "      <td>B</td>\n",
       "      <td>interface_eu_test</td>\n",
       "      <td>2020-12-07</td>\n",
       "      <td>EU</td>\n",
       "      <td>PC</td>\n",
       "    </tr>\n",
       "  </tbody>\n",
       "</table>\n",
       "</div>"
      ],
      "text/plain": [
       "             user_id            event_dt event_name  details        date  day  \\\n",
       "3   96F27A054B191457 2020-12-07 04:02:40   purchase     4.99  2020-12-07    7   \n",
       "5   831887FE7F2D6CBA 2020-12-07 06:50:29   purchase     4.99  2020-12-07    7   \n",
       "9   A92195E3CFB83DBD 2020-12-07 00:32:07   purchase     4.99  2020-12-07    7   \n",
       "11  354D653172FF2A2D 2020-12-07 15:45:11   purchase     4.99  2020-12-07    7   \n",
       "12  7FCD34F47C13A9AC 2020-12-07 22:06:13   purchase     9.99  2020-12-07    7   \n",
       "\n",
       "    week  month group                  ab_test first_date region   device  \n",
       "3     50     12     B        interface_eu_test 2020-12-07     EU   iPhone  \n",
       "5     50     12     A  recommender_system_test 2020-12-07     EU  Android  \n",
       "9     50     12     A        interface_eu_test 2020-12-07     EU  Android  \n",
       "11    50     12     A        interface_eu_test 2020-12-07     EU      Mac  \n",
       "12    50     12     B        interface_eu_test 2020-12-07     EU       PC  "
      ]
     },
     "execution_count": 96,
     "metadata": {},
     "output_type": "execute_result"
    }
   ],
   "source": [
    "events_participants.head()"
   ]
  },
  {
   "cell_type": "code",
   "execution_count": 97,
   "id": "4c771578-2349-48f4-99f0-cd7c5f6d6b2c",
   "metadata": {},
   "outputs": [
    {
     "data": {
      "text/plain": [
       "array(['interface_eu_test', 'recommender_system_test'], dtype=object)"
      ]
     },
     "execution_count": 97,
     "metadata": {},
     "output_type": "execute_result"
    }
   ],
   "source": [
    "events_participants['ab_test'].unique()"
   ]
  },
  {
   "cell_type": "code",
   "execution_count": 98,
   "id": "6178a028-b23c-46f1-83a8-06b6f1e444e0",
   "metadata": {},
   "outputs": [
    {
     "data": {
      "text/plain": [
       "event_name\n",
       "login           13636\n",
       "product_cart     4394\n",
       "product_page     8923\n",
       "purchase         4563\n",
       "Name: user_id, dtype: int64"
      ]
     },
     "execution_count": 98,
     "metadata": {},
     "output_type": "execute_result"
    }
   ],
   "source": [
    "events_participants.groupby('event_name')['user_id'].nunique()"
   ]
  },
  {
   "cell_type": "code",
   "execution_count": 99,
   "id": "2d675994-9ec9-4930-838e-28813c74f489",
   "metadata": {},
   "outputs": [],
   "source": [
    "#grouping by a/b test group\n",
    "grouped = events_participants.groupby('group', as_index=False)['user_id'].nunique().rename(columns={'user_id':'count'})"
   ]
  },
  {
   "cell_type": "code",
   "execution_count": 100,
   "id": "fdcb1bc1-f16d-4600-9b7f-bb43a19b0473",
   "metadata": {},
   "outputs": [
    {
     "data": {
      "text/html": [
       "<div>\n",
       "<style scoped>\n",
       "    .dataframe tbody tr th:only-of-type {\n",
       "        vertical-align: middle;\n",
       "    }\n",
       "\n",
       "    .dataframe tbody tr th {\n",
       "        vertical-align: top;\n",
       "    }\n",
       "\n",
       "    .dataframe thead th {\n",
       "        text-align: right;\n",
       "    }\n",
       "</style>\n",
       "<table border=\"1\" class=\"dataframe\">\n",
       "  <thead>\n",
       "    <tr style=\"text-align: right;\">\n",
       "      <th></th>\n",
       "      <th>group</th>\n",
       "      <th>count</th>\n",
       "      <th>percentage</th>\n",
       "    </tr>\n",
       "  </thead>\n",
       "  <tbody>\n",
       "    <tr>\n",
       "      <th>0</th>\n",
       "      <td>A</td>\n",
       "      <td>7874</td>\n",
       "      <td>55.927268</td>\n",
       "    </tr>\n",
       "    <tr>\n",
       "      <th>1</th>\n",
       "      <td>B</td>\n",
       "      <td>6205</td>\n",
       "      <td>44.072732</td>\n",
       "    </tr>\n",
       "  </tbody>\n",
       "</table>\n",
       "</div>"
      ],
      "text/plain": [
       "  group  count  percentage\n",
       "0     A   7874   55.927268\n",
       "1     B   6205   44.072732"
      ]
     },
     "execution_count": 100,
     "metadata": {},
     "output_type": "execute_result"
    }
   ],
   "source": [
    "#adding percentage column\n",
    "grouped['percentage'] = per_calc(grouped['count'], grouped['count'].sum())\n",
    "grouped"
   ]
  },
  {
   "cell_type": "markdown",
   "id": "42aea7ad-31f3-42bc-b8d7-cba03925a236",
   "metadata": {},
   "source": [
    "    there is a difference of almost 12% between groups but there is 2 different interfaces being tested, I will filter them by it."
   ]
  },
  {
   "cell_type": "markdown",
   "id": "6c64606c-e239-42e4-a0b4-9242453a008c",
   "metadata": {},
   "source": [
    "### time frame"
   ]
  },
  {
   "cell_type": "code",
   "execution_count": 103,
   "id": "cf0b31cd-6833-4d52-a270-aab52ae56dbf",
   "metadata": {},
   "outputs": [
    {
     "data": {
      "text/plain": [
       "datetime.date(2020, 12, 7)"
      ]
     },
     "execution_count": 103,
     "metadata": {},
     "output_type": "execute_result"
    }
   ],
   "source": [
    "#when test started\n",
    "events_participants['date'].min()"
   ]
  },
  {
   "cell_type": "code",
   "execution_count": 104,
   "id": "2c45e1b0-6ec4-42cf-8de5-fbb50b9f054a",
   "metadata": {},
   "outputs": [
    {
     "data": {
      "text/plain": [
       "datetime.date(2020, 12, 30)"
      ]
     },
     "execution_count": 104,
     "metadata": {},
     "output_type": "execute_result"
    }
   ],
   "source": [
    "#when test finished\n",
    "events_participants['date'].max()"
   ]
  },
  {
   "cell_type": "code",
   "execution_count": 105,
   "id": "ceaf9810-d8a1-4bdc-813a-d6e51337e3c1",
   "metadata": {},
   "outputs": [
    {
     "data": {
      "text/plain": [
       "datetime.timedelta(days=23)"
      ]
     },
     "execution_count": 105,
     "metadata": {},
     "output_type": "execute_result"
    }
   ],
   "source": [
    "#days of test\n",
    "events_participants['date'].max() - events_participants['date'].min()"
   ]
  },
  {
   "cell_type": "markdown",
   "id": "133b0e9b-0924-48ca-b20d-bd6fc533b40f",
   "metadata": {},
   "source": [
    "### eu_test"
   ]
  },
  {
   "cell_type": "code",
   "execution_count": 107,
   "id": "2015f160-2bba-4bda-a4e8-4ca432e20460",
   "metadata": {},
   "outputs": [
    {
     "data": {
      "text/html": [
       "<div>\n",
       "<style scoped>\n",
       "    .dataframe tbody tr th:only-of-type {\n",
       "        vertical-align: middle;\n",
       "    }\n",
       "\n",
       "    .dataframe tbody tr th {\n",
       "        vertical-align: top;\n",
       "    }\n",
       "\n",
       "    .dataframe thead th {\n",
       "        text-align: right;\n",
       "    }\n",
       "</style>\n",
       "<table border=\"1\" class=\"dataframe\">\n",
       "  <thead>\n",
       "    <tr style=\"text-align: right;\">\n",
       "      <th></th>\n",
       "      <th>user_id</th>\n",
       "      <th>event_dt</th>\n",
       "      <th>event_name</th>\n",
       "      <th>details</th>\n",
       "      <th>date</th>\n",
       "      <th>day</th>\n",
       "      <th>week</th>\n",
       "      <th>month</th>\n",
       "      <th>group</th>\n",
       "      <th>ab_test</th>\n",
       "      <th>first_date</th>\n",
       "      <th>region</th>\n",
       "      <th>device</th>\n",
       "    </tr>\n",
       "  </thead>\n",
       "  <tbody>\n",
       "    <tr>\n",
       "      <th>3</th>\n",
       "      <td>96F27A054B191457</td>\n",
       "      <td>2020-12-07 04:02:40</td>\n",
       "      <td>purchase</td>\n",
       "      <td>4.99</td>\n",
       "      <td>2020-12-07</td>\n",
       "      <td>7</td>\n",
       "      <td>50</td>\n",
       "      <td>12</td>\n",
       "      <td>B</td>\n",
       "      <td>interface_eu_test</td>\n",
       "      <td>2020-12-07</td>\n",
       "      <td>EU</td>\n",
       "      <td>iPhone</td>\n",
       "    </tr>\n",
       "    <tr>\n",
       "      <th>9</th>\n",
       "      <td>A92195E3CFB83DBD</td>\n",
       "      <td>2020-12-07 00:32:07</td>\n",
       "      <td>purchase</td>\n",
       "      <td>4.99</td>\n",
       "      <td>2020-12-07</td>\n",
       "      <td>7</td>\n",
       "      <td>50</td>\n",
       "      <td>12</td>\n",
       "      <td>A</td>\n",
       "      <td>interface_eu_test</td>\n",
       "      <td>2020-12-07</td>\n",
       "      <td>EU</td>\n",
       "      <td>Android</td>\n",
       "    </tr>\n",
       "    <tr>\n",
       "      <th>11</th>\n",
       "      <td>354D653172FF2A2D</td>\n",
       "      <td>2020-12-07 15:45:11</td>\n",
       "      <td>purchase</td>\n",
       "      <td>4.99</td>\n",
       "      <td>2020-12-07</td>\n",
       "      <td>7</td>\n",
       "      <td>50</td>\n",
       "      <td>12</td>\n",
       "      <td>A</td>\n",
       "      <td>interface_eu_test</td>\n",
       "      <td>2020-12-07</td>\n",
       "      <td>EU</td>\n",
       "      <td>Mac</td>\n",
       "    </tr>\n",
       "    <tr>\n",
       "      <th>12</th>\n",
       "      <td>7FCD34F47C13A9AC</td>\n",
       "      <td>2020-12-07 22:06:13</td>\n",
       "      <td>purchase</td>\n",
       "      <td>9.99</td>\n",
       "      <td>2020-12-07</td>\n",
       "      <td>7</td>\n",
       "      <td>50</td>\n",
       "      <td>12</td>\n",
       "      <td>B</td>\n",
       "      <td>interface_eu_test</td>\n",
       "      <td>2020-12-07</td>\n",
       "      <td>EU</td>\n",
       "      <td>PC</td>\n",
       "    </tr>\n",
       "    <tr>\n",
       "      <th>13</th>\n",
       "      <td>0313C457F07C339E</td>\n",
       "      <td>2020-12-07 13:10:48</td>\n",
       "      <td>purchase</td>\n",
       "      <td>9.99</td>\n",
       "      <td>2020-12-07</td>\n",
       "      <td>7</td>\n",
       "      <td>50</td>\n",
       "      <td>12</td>\n",
       "      <td>A</td>\n",
       "      <td>interface_eu_test</td>\n",
       "      <td>2020-12-07</td>\n",
       "      <td>EU</td>\n",
       "      <td>Mac</td>\n",
       "    </tr>\n",
       "  </tbody>\n",
       "</table>\n",
       "</div>"
      ],
      "text/plain": [
       "             user_id            event_dt event_name  details        date  day  \\\n",
       "3   96F27A054B191457 2020-12-07 04:02:40   purchase     4.99  2020-12-07    7   \n",
       "9   A92195E3CFB83DBD 2020-12-07 00:32:07   purchase     4.99  2020-12-07    7   \n",
       "11  354D653172FF2A2D 2020-12-07 15:45:11   purchase     4.99  2020-12-07    7   \n",
       "12  7FCD34F47C13A9AC 2020-12-07 22:06:13   purchase     9.99  2020-12-07    7   \n",
       "13  0313C457F07C339E 2020-12-07 13:10:48   purchase     9.99  2020-12-07    7   \n",
       "\n",
       "    week  month group            ab_test first_date region   device  \n",
       "3     50     12     B  interface_eu_test 2020-12-07     EU   iPhone  \n",
       "9     50     12     A  interface_eu_test 2020-12-07     EU  Android  \n",
       "11    50     12     A  interface_eu_test 2020-12-07     EU      Mac  \n",
       "12    50     12     B  interface_eu_test 2020-12-07     EU       PC  \n",
       "13    50     12     A  interface_eu_test 2020-12-07     EU      Mac  "
      ]
     },
     "execution_count": 107,
     "metadata": {},
     "output_type": "execute_result"
    }
   ],
   "source": [
    "#querying ab test interface_eu_test\n",
    "eu_test_participants = events_participants.query('ab_test == \"interface_eu_test\"')\n",
    "eu_test_participants.head()"
   ]
  },
  {
   "cell_type": "code",
   "execution_count": 108,
   "id": "0990e5bb-2715-478c-9b11-4e7c29af03ab",
   "metadata": {},
   "outputs": [],
   "source": [
    "#how many of users\n",
    "ab_eu = eu_test_participants.groupby('group')['user_id'].nunique().reset_index().rename(columns={'user_id':'count'})"
   ]
  },
  {
   "cell_type": "code",
   "execution_count": 109,
   "id": "386e878e-0ec5-4b97-8e23-293e3fd69d32",
   "metadata": {},
   "outputs": [
    {
     "data": {
      "text/html": [
       "<div>\n",
       "<style scoped>\n",
       "    .dataframe tbody tr th:only-of-type {\n",
       "        vertical-align: middle;\n",
       "    }\n",
       "\n",
       "    .dataframe tbody tr th {\n",
       "        vertical-align: top;\n",
       "    }\n",
       "\n",
       "    .dataframe thead th {\n",
       "        text-align: right;\n",
       "    }\n",
       "</style>\n",
       "<table border=\"1\" class=\"dataframe\">\n",
       "  <thead>\n",
       "    <tr style=\"text-align: right;\">\n",
       "      <th></th>\n",
       "      <th>group</th>\n",
       "      <th>count</th>\n",
       "      <th>percentage</th>\n",
       "    </tr>\n",
       "  </thead>\n",
       "  <tbody>\n",
       "    <tr>\n",
       "      <th>0</th>\n",
       "      <td>A</td>\n",
       "      <td>5467</td>\n",
       "      <td>50.387097</td>\n",
       "    </tr>\n",
       "    <tr>\n",
       "      <th>1</th>\n",
       "      <td>B</td>\n",
       "      <td>5383</td>\n",
       "      <td>49.612903</td>\n",
       "    </tr>\n",
       "  </tbody>\n",
       "</table>\n",
       "</div>"
      ],
      "text/plain": [
       "  group  count  percentage\n",
       "0     A   5467   50.387097\n",
       "1     B   5383   49.612903"
      ]
     },
     "execution_count": 109,
     "metadata": {},
     "output_type": "execute_result"
    }
   ],
   "source": [
    "#adding percentage column\n",
    "ab_eu['percentage'] = per_calc(ab_eu['count'], ab_eu['count'].sum())\n",
    "ab_eu"
   ]
  },
  {
   "cell_type": "markdown",
   "id": "584664b9-0884-4fea-918d-94b9f1debb26",
   "metadata": {},
   "source": [
    "    very small difference of users per group, this is positive"
   ]
  },
  {
   "cell_type": "code",
   "execution_count": 111,
   "id": "03e92e8f-b1e0-4803-bf3b-03e2cd9df581",
   "metadata": {},
   "outputs": [
    {
     "data": {
      "text/html": [
       "<div>\n",
       "<style scoped>\n",
       "    .dataframe tbody tr th:only-of-type {\n",
       "        vertical-align: middle;\n",
       "    }\n",
       "\n",
       "    .dataframe tbody tr th {\n",
       "        vertical-align: top;\n",
       "    }\n",
       "\n",
       "    .dataframe thead th {\n",
       "        text-align: right;\n",
       "    }\n",
       "</style>\n",
       "<table border=\"1\" class=\"dataframe\">\n",
       "  <thead>\n",
       "    <tr style=\"text-align: right;\">\n",
       "      <th></th>\n",
       "      <th>event_name</th>\n",
       "      <th>count</th>\n",
       "    </tr>\n",
       "  </thead>\n",
       "  <tbody>\n",
       "    <tr>\n",
       "      <th>0</th>\n",
       "      <td>login</td>\n",
       "      <td>10849</td>\n",
       "    </tr>\n",
       "    <tr>\n",
       "      <th>2</th>\n",
       "      <td>product_page</td>\n",
       "      <td>7166</td>\n",
       "    </tr>\n",
       "    <tr>\n",
       "      <th>3</th>\n",
       "      <td>purchase</td>\n",
       "      <td>3713</td>\n",
       "    </tr>\n",
       "    <tr>\n",
       "      <th>1</th>\n",
       "      <td>product_cart</td>\n",
       "      <td>3568</td>\n",
       "    </tr>\n",
       "  </tbody>\n",
       "</table>\n",
       "</div>"
      ],
      "text/plain": [
       "     event_name  count\n",
       "0         login  10849\n",
       "2  product_page   7166\n",
       "3      purchase   3713\n",
       "1  product_cart   3568"
      ]
     },
     "execution_count": 111,
     "metadata": {},
     "output_type": "execute_result"
    }
   ],
   "source": [
    "#grouping counts of users by event\n",
    "ab_eu_events = eu_test_participants.groupby('event_name')['user_id'].nunique().reset_index().rename(columns={'user_id':'count'}).sort_values(by='count',ascending=False)\n",
    "ab_eu_events"
   ]
  },
  {
   "cell_type": "code",
   "execution_count": 112,
   "id": "f8945a3b-f99c-4d84-a1eb-3853adc59bc1",
   "metadata": {},
   "outputs": [
    {
     "data": {
      "image/png": "[encoded data removed]",
      "text/plain": [
       "<Figure size 1200x800 with 1 Axes>"
      ]
     },
     "metadata": {},
     "output_type": "display_data"
    }
   ],
   "source": [
    "#count of users per event plot\n",
    "plt.figure(figsize=(12,8))\n",
    "ax = sns.barplot(data=ab_eu_events, x='event_name', y='count')\n",
    "plt.title('count of users per event')\n",
    "for i, count in enumerate(ab_eu_events['count']):\n",
    "    ax.text(i, count + 0.05, str(count), ha='center', va='bottom')\n",
    "plt.show()"
   ]
  },
  {
   "cell_type": "markdown",
   "id": "da800476-0d2e-4ea9-9981-23c64396480f",
   "metadata": {},
   "source": [
    "    product_cart events count is smaller than purchase, showing some customers bought without going through product_cart event"
   ]
  },
  {
   "cell_type": "code",
   "execution_count": 114,
   "id": "81107dcc-2d59-4d8c-acd2-2dac9af6e9ac",
   "metadata": {},
   "outputs": [
    {
     "data": {
      "text/plain": [
       "34.22435247488248"
      ]
     },
     "execution_count": 114,
     "metadata": {},
     "output_type": "execute_result"
    }
   ],
   "source": [
    "#login conversion rate\n",
    "login_conversion_eu = (ab_eu_events.loc[ab_eu_events['event_name'] == 'purchase', 'count'].iloc[0] / ab_eu_events.loc[ab_eu_events['event_name'] == 'login', 'count'].iloc[0]) * 100\n",
    "login_conversion_eu"
   ]
  },
  {
   "cell_type": "markdown",
   "id": "9785b1f6-671b-43de-afdf-e3c6466dafdb",
   "metadata": {},
   "source": [
    "    conversion rate of 34.2% from login to purchase"
   ]
  },
  {
   "cell_type": "code",
   "execution_count": 116,
   "id": "ed2fa565-b9fa-4368-a56c-da4eee8f0628",
   "metadata": {},
   "outputs": [
    {
     "data": {
      "text/plain": [
       "51.814122243929674"
      ]
     },
     "execution_count": 116,
     "metadata": {},
     "output_type": "execute_result"
    }
   ],
   "source": [
    "#product page conversion rate\n",
    "prod_page_conversion_eu = (ab_eu_events.loc[ab_eu_events['event_name'] == 'purchase', 'count'].iloc[0] / ab_eu_events.loc[ab_eu_events['event_name'] == 'product_page', 'count'].iloc[0]) * 100\n",
    "prod_page_conversion_eu"
   ]
  },
  {
   "cell_type": "markdown",
   "id": "6ec49801-ed91-4eec-b531-c030c23f3961",
   "metadata": {},
   "source": [
    "    conversion rate of 51.8% from product_page to purchase"
   ]
  },
  {
   "cell_type": "code",
   "execution_count": 118,
   "id": "ff9b02e4-283e-4630-b207-7b3806f09a3e",
   "metadata": {},
   "outputs": [
    {
     "data": {
      "text/plain": [
       "104.06390134529148"
      ]
     },
     "execution_count": 118,
     "metadata": {},
     "output_type": "execute_result"
    }
   ],
   "source": [
    "#product cart conversion rate\n",
    "prod_cart_conversion_eu = (ab_eu_events.loc[ab_eu_events['event_name'] == 'purchase', 'count'].iloc[0] / ab_eu_events.loc[ab_eu_events['event_name'] == 'product_cart', 'count'].iloc[0]) * 100\n",
    "prod_cart_conversion_eu"
   ]
  },
  {
   "cell_type": "markdown",
   "id": "e9160292-f20e-4bff-8ba1-87f2714a9e45",
   "metadata": {},
   "source": [
    "    4% of purchases were done without passing through product_cart event"
   ]
  },
  {
   "cell_type": "markdown",
   "id": "b2196b94-9949-402d-b22b-59e89b2c183f",
   "metadata": {},
   "source": [
    "### recommender_system_test"
   ]
  },
  {
   "cell_type": "code",
   "execution_count": 121,
   "id": "bbee8b9e-cf9c-4a12-a5e6-1f21db15d16e",
   "metadata": {},
   "outputs": [
    {
     "data": {
      "text/html": [
       "<div>\n",
       "<style scoped>\n",
       "    .dataframe tbody tr th:only-of-type {\n",
       "        vertical-align: middle;\n",
       "    }\n",
       "\n",
       "    .dataframe tbody tr th {\n",
       "        vertical-align: top;\n",
       "    }\n",
       "\n",
       "    .dataframe thead th {\n",
       "        text-align: right;\n",
       "    }\n",
       "</style>\n",
       "<table border=\"1\" class=\"dataframe\">\n",
       "  <thead>\n",
       "    <tr style=\"text-align: right;\">\n",
       "      <th></th>\n",
       "      <th>user_id</th>\n",
       "      <th>event_dt</th>\n",
       "      <th>event_name</th>\n",
       "      <th>details</th>\n",
       "      <th>date</th>\n",
       "      <th>day</th>\n",
       "      <th>week</th>\n",
       "      <th>month</th>\n",
       "      <th>group</th>\n",
       "      <th>ab_test</th>\n",
       "      <th>first_date</th>\n",
       "      <th>region</th>\n",
       "      <th>device</th>\n",
       "    </tr>\n",
       "  </thead>\n",
       "  <tbody>\n",
       "    <tr>\n",
       "      <th>5</th>\n",
       "      <td>831887FE7F2D6CBA</td>\n",
       "      <td>2020-12-07 06:50:29</td>\n",
       "      <td>purchase</td>\n",
       "      <td>4.99</td>\n",
       "      <td>2020-12-07</td>\n",
       "      <td>7</td>\n",
       "      <td>50</td>\n",
       "      <td>12</td>\n",
       "      <td>A</td>\n",
       "      <td>recommender_system_test</td>\n",
       "      <td>2020-12-07</td>\n",
       "      <td>EU</td>\n",
       "      <td>Android</td>\n",
       "    </tr>\n",
       "    <tr>\n",
       "      <th>17</th>\n",
       "      <td>3C5DD0288AC4FE23</td>\n",
       "      <td>2020-12-07 19:42:40</td>\n",
       "      <td>purchase</td>\n",
       "      <td>4.99</td>\n",
       "      <td>2020-12-07</td>\n",
       "      <td>7</td>\n",
       "      <td>50</td>\n",
       "      <td>12</td>\n",
       "      <td>A</td>\n",
       "      <td>recommender_system_test</td>\n",
       "      <td>2020-12-07</td>\n",
       "      <td>EU</td>\n",
       "      <td>PC</td>\n",
       "    </tr>\n",
       "    <tr>\n",
       "      <th>58</th>\n",
       "      <td>49EA242586C87836</td>\n",
       "      <td>2020-12-07 06:31:24</td>\n",
       "      <td>purchase</td>\n",
       "      <td>99.99</td>\n",
       "      <td>2020-12-07</td>\n",
       "      <td>7</td>\n",
       "      <td>50</td>\n",
       "      <td>12</td>\n",
       "      <td>B</td>\n",
       "      <td>recommender_system_test</td>\n",
       "      <td>2020-12-07</td>\n",
       "      <td>EU</td>\n",
       "      <td>iPhone</td>\n",
       "    </tr>\n",
       "    <tr>\n",
       "      <th>71</th>\n",
       "      <td>2B06EB547B7AAD08</td>\n",
       "      <td>2020-12-07 21:36:38</td>\n",
       "      <td>purchase</td>\n",
       "      <td>4.99</td>\n",
       "      <td>2020-12-07</td>\n",
       "      <td>7</td>\n",
       "      <td>50</td>\n",
       "      <td>12</td>\n",
       "      <td>A</td>\n",
       "      <td>recommender_system_test</td>\n",
       "      <td>2020-12-07</td>\n",
       "      <td>EU</td>\n",
       "      <td>PC</td>\n",
       "    </tr>\n",
       "    <tr>\n",
       "      <th>75</th>\n",
       "      <td>A640F31CAC7823A6</td>\n",
       "      <td>2020-12-07 18:48:26</td>\n",
       "      <td>purchase</td>\n",
       "      <td>4.99</td>\n",
       "      <td>2020-12-07</td>\n",
       "      <td>7</td>\n",
       "      <td>50</td>\n",
       "      <td>12</td>\n",
       "      <td>B</td>\n",
       "      <td>recommender_system_test</td>\n",
       "      <td>2020-12-07</td>\n",
       "      <td>EU</td>\n",
       "      <td>PC</td>\n",
       "    </tr>\n",
       "  </tbody>\n",
       "</table>\n",
       "</div>"
      ],
      "text/plain": [
       "             user_id            event_dt event_name  details        date  day  \\\n",
       "5   831887FE7F2D6CBA 2020-12-07 06:50:29   purchase     4.99  2020-12-07    7   \n",
       "17  3C5DD0288AC4FE23 2020-12-07 19:42:40   purchase     4.99  2020-12-07    7   \n",
       "58  49EA242586C87836 2020-12-07 06:31:24   purchase    99.99  2020-12-07    7   \n",
       "71  2B06EB547B7AAD08 2020-12-07 21:36:38   purchase     4.99  2020-12-07    7   \n",
       "75  A640F31CAC7823A6 2020-12-07 18:48:26   purchase     4.99  2020-12-07    7   \n",
       "\n",
       "    week  month group                  ab_test first_date region   device  \n",
       "5     50     12     A  recommender_system_test 2020-12-07     EU  Android  \n",
       "17    50     12     A  recommender_system_test 2020-12-07     EU       PC  \n",
       "58    50     12     B  recommender_system_test 2020-12-07     EU   iPhone  \n",
       "71    50     12     A  recommender_system_test 2020-12-07     EU       PC  \n",
       "75    50     12     B  recommender_system_test 2020-12-07     EU       PC  "
      ]
     },
     "execution_count": 121,
     "metadata": {},
     "output_type": "execute_result"
    }
   ],
   "source": [
    "#querying ab test interface_eu_test\n",
    "system_test_participants = events_participants.query('ab_test == \"recommender_system_test\"')\n",
    "system_test_participants.head()"
   ]
  },
  {
   "cell_type": "code",
   "execution_count": 122,
   "id": "863d1312-7d98-4094-8a40-d1e3be4b0594",
   "metadata": {},
   "outputs": [],
   "source": [
    "#how many of users\n",
    "ab_system = system_test_participants.groupby('group')['user_id'].nunique().reset_index().rename(columns={'user_id':'count'})"
   ]
  },
  {
   "cell_type": "code",
   "execution_count": 123,
   "id": "0e0310d8-3e35-4a42-8993-2aca0682ca0d",
   "metadata": {},
   "outputs": [
    {
     "data": {
      "text/html": [
       "<div>\n",
       "<style scoped>\n",
       "    .dataframe tbody tr th:only-of-type {\n",
       "        vertical-align: middle;\n",
       "    }\n",
       "\n",
       "    .dataframe tbody tr th {\n",
       "        vertical-align: top;\n",
       "    }\n",
       "\n",
       "    .dataframe thead th {\n",
       "        text-align: right;\n",
       "    }\n",
       "</style>\n",
       "<table border=\"1\" class=\"dataframe\">\n",
       "  <thead>\n",
       "    <tr style=\"text-align: right;\">\n",
       "      <th></th>\n",
       "      <th>group</th>\n",
       "      <th>count</th>\n",
       "      <th>percentage</th>\n",
       "    </tr>\n",
       "  </thead>\n",
       "  <tbody>\n",
       "    <tr>\n",
       "      <th>0</th>\n",
       "      <td>A</td>\n",
       "      <td>2747</td>\n",
       "      <td>74.748299</td>\n",
       "    </tr>\n",
       "    <tr>\n",
       "      <th>1</th>\n",
       "      <td>B</td>\n",
       "      <td>928</td>\n",
       "      <td>25.251701</td>\n",
       "    </tr>\n",
       "  </tbody>\n",
       "</table>\n",
       "</div>"
      ],
      "text/plain": [
       "  group  count  percentage\n",
       "0     A   2747   74.748299\n",
       "1     B    928   25.251701"
      ]
     },
     "execution_count": 123,
     "metadata": {},
     "output_type": "execute_result"
    }
   ],
   "source": [
    "#adding percentage column\n",
    "ab_system['percentage'] = per_calc(ab_system['count'], ab_system['count'].sum())\n",
    "ab_system"
   ]
  },
  {
   "cell_type": "markdown",
   "id": "38dac99c-9743-411b-924c-dda8142de472",
   "metadata": {},
   "source": [
    "    there is a high risk of bias in this results"
   ]
  },
  {
   "cell_type": "code",
   "execution_count": 125,
   "id": "626cd945-fc04-40c4-aec5-3c976ebb8e51",
   "metadata": {},
   "outputs": [
    {
     "data": {
      "text/html": [
       "<div>\n",
       "<style scoped>\n",
       "    .dataframe tbody tr th:only-of-type {\n",
       "        vertical-align: middle;\n",
       "    }\n",
       "\n",
       "    .dataframe tbody tr th {\n",
       "        vertical-align: top;\n",
       "    }\n",
       "\n",
       "    .dataframe thead th {\n",
       "        text-align: right;\n",
       "    }\n",
       "</style>\n",
       "<table border=\"1\" class=\"dataframe\">\n",
       "  <thead>\n",
       "    <tr style=\"text-align: right;\">\n",
       "      <th></th>\n",
       "      <th>event_name</th>\n",
       "      <th>count</th>\n",
       "    </tr>\n",
       "  </thead>\n",
       "  <tbody>\n",
       "    <tr>\n",
       "      <th>0</th>\n",
       "      <td>login</td>\n",
       "      <td>3674</td>\n",
       "    </tr>\n",
       "    <tr>\n",
       "      <th>2</th>\n",
       "      <td>product_page</td>\n",
       "      <td>2303</td>\n",
       "    </tr>\n",
       "    <tr>\n",
       "      <th>3</th>\n",
       "      <td>purchase</td>\n",
       "      <td>1128</td>\n",
       "    </tr>\n",
       "    <tr>\n",
       "      <th>1</th>\n",
       "      <td>product_cart</td>\n",
       "      <td>1079</td>\n",
       "    </tr>\n",
       "  </tbody>\n",
       "</table>\n",
       "</div>"
      ],
      "text/plain": [
       "     event_name  count\n",
       "0         login   3674\n",
       "2  product_page   2303\n",
       "3      purchase   1128\n",
       "1  product_cart   1079"
      ]
     },
     "execution_count": 125,
     "metadata": {},
     "output_type": "execute_result"
    }
   ],
   "source": [
    "#grouping counts of users by event\n",
    "ab_system_events = system_test_participants.groupby('event_name')['user_id'].nunique().reset_index().rename(columns={'user_id':'count'}).sort_values(by='count',ascending=False)\n",
    "ab_system_events"
   ]
  },
  {
   "cell_type": "code",
   "execution_count": 126,
   "id": "d0e6d374-a9da-45c8-bf30-16754dc2c12c",
   "metadata": {},
   "outputs": [
    {
     "data": {
      "image/png": "[encoded data removed]",
      "text/plain": [
       "<Figure size 1200x800 with 1 Axes>"
      ]
     },
     "metadata": {},
     "output_type": "display_data"
    }
   ],
   "source": [
    "#count of users per event plot\n",
    "plt.figure(figsize=(12,8))\n",
    "ax = sns.barplot(data=ab_system_events, x='event_name', y='count')\n",
    "plt.title('count of users per event')\n",
    "for i, count in enumerate(ab_system_events['count']):\n",
    "    ax.text(i, count + 0.05, str(count), ha='center', va='bottom')\n",
    "plt.show()"
   ]
  },
  {
   "cell_type": "markdown",
   "id": "f8691114-cab1-43fb-8494-a349808aba6d",
   "metadata": {},
   "source": [
    "    same as seen on previous graphic product_cart is higher than purchase"
   ]
  },
  {
   "cell_type": "code",
   "execution_count": 128,
   "id": "16184dd2-4a3c-4198-81af-fd3f5efe4a75",
   "metadata": {},
   "outputs": [
    {
     "data": {
      "text/plain": [
       "30.70223189983669"
      ]
     },
     "execution_count": 128,
     "metadata": {},
     "output_type": "execute_result"
    }
   ],
   "source": [
    "#login conversion rate\n",
    "login_conversion = (ab_system_events.loc[ab_system_events['event_name'] == 'purchase', 'count'].iloc[0] / ab_system_events.loc[ab_system_events['event_name'] == 'login', 'count'].iloc[0]) * 100\n",
    "login_conversion"
   ]
  },
  {
   "cell_type": "markdown",
   "id": "2b6a8866-8979-465e-b8f4-bb81b99060ce",
   "metadata": {},
   "source": [
    "    conversion rate of 30.7% from login to purchase"
   ]
  },
  {
   "cell_type": "code",
   "execution_count": 130,
   "id": "3a7a8292-e798-427e-93da-410b47c97aca",
   "metadata": {},
   "outputs": [
    {
     "data": {
      "text/plain": [
       "48.97959183673469"
      ]
     },
     "execution_count": 130,
     "metadata": {},
     "output_type": "execute_result"
    }
   ],
   "source": [
    "#product page conversion rate\n",
    "prod_page_conversion = (ab_system_events.loc[ab_system_events['event_name'] == 'purchase', 'count'].iloc[0] / ab_system_events.loc[ab_system_events['event_name'] == 'product_page', 'count'].iloc[0]) * 100\n",
    "prod_page_conversion"
   ]
  },
  {
   "cell_type": "markdown",
   "id": "14d37f1b-32ad-4380-8de7-04a8c65dc540",
   "metadata": {},
   "source": [
    "    conversion rate of 48.9% from product page event to purchase"
   ]
  },
  {
   "cell_type": "code",
   "execution_count": 132,
   "id": "1e84608e-423f-4da5-82f9-4b2ca57803be",
   "metadata": {},
   "outputs": [
    {
     "data": {
      "text/plain": [
       "104.5412418906395"
      ]
     },
     "execution_count": 132,
     "metadata": {},
     "output_type": "execute_result"
    }
   ],
   "source": [
    "#product cart conversion rate\n",
    "prod_cart_conversion = (ab_system_events.loc[ab_system_events['event_name'] == 'purchase', 'count'].iloc[0] / ab_system_events.loc[ab_system_events['event_name'] == 'product_cart', 'count'].iloc[0]) * 100\n",
    "prod_cart_conversion"
   ]
  },
  {
   "cell_type": "markdown",
   "id": "e7ae4bd9-7488-4edb-87a2-d822e119ecff",
   "metadata": {},
   "source": [
    "    4% of purchase did not pass through product_cart event"
   ]
  },
  {
   "cell_type": "markdown",
   "id": "5971dcee-9c93-4959-8b7c-f44b8fd78f71",
   "metadata": {},
   "source": [
    "### compared conversion rate by interface"
   ]
  },
  {
   "cell_type": "code",
   "execution_count": 135,
   "id": "b114a87a-d7af-4a23-8940-3bbfd8de53ff",
   "metadata": {},
   "outputs": [
    {
     "data": {
      "text/plain": [
       "-3.52212057504579"
      ]
     },
     "execution_count": 135,
     "metadata": {},
     "output_type": "execute_result"
    }
   ],
   "source": [
    "#recommender_system - eu_test\n",
    "login_conversion - login_conversion_eu"
   ]
  },
  {
   "cell_type": "markdown",
   "id": "01df04f8-2515-4afb-92b2-967f69e50ff7",
   "metadata": {},
   "source": [
    "    eu test conversion from login is 3.52% higher than recommender system"
   ]
  },
  {
   "cell_type": "code",
   "execution_count": 137,
   "id": "09078dc0-b242-4fc3-88f4-a7634763d2f9",
   "metadata": {},
   "outputs": [
    {
     "data": {
      "text/plain": [
       "-2.8345304071949826"
      ]
     },
     "execution_count": 137,
     "metadata": {},
     "output_type": "execute_result"
    }
   ],
   "source": [
    "#recommender_system - eu_test\n",
    "prod_page_conversion - prod_page_conversion_eu"
   ]
  },
  {
   "cell_type": "markdown",
   "id": "b09bb324-8f57-412d-ad16-2018e399ce64",
   "metadata": {},
   "source": [
    "    eu test conversion from login is 2.83% higher than recommender system"
   ]
  },
  {
   "cell_type": "code",
   "execution_count": 139,
   "id": "0724ed20-5fb0-4621-963a-e2861fb14fdc",
   "metadata": {},
   "outputs": [
    {
     "data": {
      "text/plain": [
       "0.47734054534801373"
      ]
     },
     "execution_count": 139,
     "metadata": {},
     "output_type": "execute_result"
    }
   ],
   "source": [
    "prod_cart_conversion - prod_cart_conversion_eu"
   ]
  },
  {
   "cell_type": "markdown",
   "id": "055f3cc3-b0e4-4c6f-b899-1401b11699e1",
   "metadata": {},
   "source": [
    "     small difference on conversion rate but the percentage noth interfaces test had their percentage higher than the event before"
   ]
  },
  {
   "cell_type": "markdown",
   "id": "ec984f81-8579-4748-8468-20fe2b795c3f",
   "metadata": {},
   "source": [
    "## event vs day distribution"
   ]
  },
  {
   "cell_type": "code",
   "execution_count": 142,
   "id": "2afb901d-fbd7-4ccc-ad7a-31929e026907",
   "metadata": {},
   "outputs": [
    {
     "data": {
      "image/png": "[encoded data removed]",
      "text/plain": [
       "<Figure size 1200x800 with 1 Axes>"
      ]
     },
     "metadata": {},
     "output_type": "display_data"
    }
   ],
   "source": [
    "plt.figure(figsize=(12,8))\n",
    "sns.histplot(data=events_participants, x='event_dt', bins=40, alpha=0.5)\n",
    "plt.title('event distribuiton per day')\n",
    "plt.show()"
   ]
  },
  {
   "cell_type": "markdown",
   "id": "0316cdb1-2f86-4390-aaa5-aa74deda2cb8",
   "metadata": {},
   "source": [
    "    it looks normal distributed with peak on 22nd of december, drop on 24th and 25th december due to christmas. accesses back to normal on 26th."
   ]
  },
  {
   "cell_type": "markdown",
   "id": "44fea5dd-5a9c-4c44-abe9-9385b4d782f7",
   "metadata": {},
   "source": [
    "# A/B test Analysis"
   ]
  },
  {
   "cell_type": "code",
   "execution_count": 145,
   "id": "11bd2690-1134-4c58-831d-b14e6dfc3ed5",
   "metadata": {},
   "outputs": [],
   "source": [
    "#defining alpha \n",
    "alpha = 0.05"
   ]
  },
  {
   "cell_type": "markdown",
   "id": "6878260a-c074-4b05-9a13-05bfc317d023",
   "metadata": {},
   "source": [
    "## system interface"
   ]
  },
  {
   "cell_type": "markdown",
   "id": "6c981ba5-9893-4bce-bdf3-b51267e9a218",
   "metadata": {},
   "source": [
    "* <b>H0: There is NO significant difference between group A and B for all events</b>\n",
    "\n",
    "* <b>H1: There is a significant difference between group A and B for all events</b>"
   ]
  },
  {
   "cell_type": "code",
   "execution_count": 148,
   "id": "ad26dec6-4fdf-4a8c-934c-1c1dae1b9129",
   "metadata": {},
   "outputs": [
    {
     "data": {
      "text/html": [
       "<div>\n",
       "<style scoped>\n",
       "    .dataframe tbody tr th:only-of-type {\n",
       "        vertical-align: middle;\n",
       "    }\n",
       "\n",
       "    .dataframe tbody tr th {\n",
       "        vertical-align: top;\n",
       "    }\n",
       "\n",
       "    .dataframe thead th {\n",
       "        text-align: right;\n",
       "    }\n",
       "</style>\n",
       "<table border=\"1\" class=\"dataframe\">\n",
       "  <thead>\n",
       "    <tr style=\"text-align: right;\">\n",
       "      <th>group</th>\n",
       "      <th>event_name</th>\n",
       "      <th>A</th>\n",
       "      <th>B</th>\n",
       "    </tr>\n",
       "  </thead>\n",
       "  <tbody>\n",
       "    <tr>\n",
       "      <th>0</th>\n",
       "      <td>login</td>\n",
       "      <td>2747</td>\n",
       "      <td>927</td>\n",
       "    </tr>\n",
       "    <tr>\n",
       "      <th>1</th>\n",
       "      <td>product_cart</td>\n",
       "      <td>824</td>\n",
       "      <td>255</td>\n",
       "    </tr>\n",
       "    <tr>\n",
       "      <th>2</th>\n",
       "      <td>product_page</td>\n",
       "      <td>1780</td>\n",
       "      <td>523</td>\n",
       "    </tr>\n",
       "    <tr>\n",
       "      <th>3</th>\n",
       "      <td>purchase</td>\n",
       "      <td>872</td>\n",
       "      <td>256</td>\n",
       "    </tr>\n",
       "  </tbody>\n",
       "</table>\n",
       "</div>"
      ],
      "text/plain": [
       "group    event_name     A    B\n",
       "0             login  2747  927\n",
       "1      product_cart   824  255\n",
       "2      product_page  1780  523\n",
       "3          purchase   872  256"
      ]
     },
     "execution_count": 148,
     "metadata": {},
     "output_type": "execute_result"
    }
   ],
   "source": [
    "#pivot table group events\n",
    "ab_pivot_system = system_test_participants.pivot_table(index='event_name', values='user_id', columns='group', aggfunc='nunique').reset_index()\n",
    "ab_pivot_system"
   ]
  },
  {
   "cell_type": "code",
   "execution_count": 154,
   "id": "698bd27d-7db7-465f-b258-c74ad9be8994",
   "metadata": {},
   "outputs": [
    {
     "name": "stdout",
     "output_type": "stream",
     "text": [
      " We can't reject null hypotesis\n"
     ]
    }
   ],
   "source": [
    "#running chi2 test for each event group 246 and 248\n",
    "group = ['A','B']\n",
    " \n",
    "#perform chi-square test for the current event\n",
    "chi2_stat, p_val, dof, expected = chi2_contingency(ab_pivot_system[group])\n",
    "\n",
    "if p_val < alpha:\n",
    "    print('Reject null hypotesis')\n",
    "else:\n",
    "    print(\" We can't reject null hypotesis\")"
   ]
  },
  {
   "cell_type": "markdown",
   "id": "f1700675-1b8a-42a5-9c2d-fe979a10a7c6",
   "metadata": {},
   "source": [
    "## eu interface"
   ]
  },
  {
   "cell_type": "markdown",
   "id": "fd7fa156-6296-49a9-aa4f-e3b57302fbc8",
   "metadata": {},
   "source": [
    "* <b>H0: There is NO significant difference between group A and B for all events</b>\n",
    "\n",
    "* <b>H1: There is a significant difference between group A and B for all events</b>"
   ]
  },
  {
   "cell_type": "code",
   "execution_count": 158,
   "id": "c3c7f43f-7b72-4e89-a3ed-69b1dc2d5f94",
   "metadata": {},
   "outputs": [
    {
     "data": {
      "text/html": [
       "<div>\n",
       "<style scoped>\n",
       "    .dataframe tbody tr th:only-of-type {\n",
       "        vertical-align: middle;\n",
       "    }\n",
       "\n",
       "    .dataframe tbody tr th {\n",
       "        vertical-align: top;\n",
       "    }\n",
       "\n",
       "    .dataframe thead th {\n",
       "        text-align: right;\n",
       "    }\n",
       "</style>\n",
       "<table border=\"1\" class=\"dataframe\">\n",
       "  <thead>\n",
       "    <tr style=\"text-align: right;\">\n",
       "      <th>group</th>\n",
       "      <th>event_name</th>\n",
       "      <th>A</th>\n",
       "      <th>B</th>\n",
       "    </tr>\n",
       "  </thead>\n",
       "  <tbody>\n",
       "    <tr>\n",
       "      <th>0</th>\n",
       "      <td>login</td>\n",
       "      <td>5466</td>\n",
       "      <td>5383</td>\n",
       "    </tr>\n",
       "    <tr>\n",
       "      <th>1</th>\n",
       "      <td>product_cart</td>\n",
       "      <td>1756</td>\n",
       "      <td>1812</td>\n",
       "    </tr>\n",
       "    <tr>\n",
       "      <th>2</th>\n",
       "      <td>product_page</td>\n",
       "      <td>3639</td>\n",
       "      <td>3527</td>\n",
       "    </tr>\n",
       "    <tr>\n",
       "      <th>3</th>\n",
       "      <td>purchase</td>\n",
       "      <td>1931</td>\n",
       "      <td>1782</td>\n",
       "    </tr>\n",
       "  </tbody>\n",
       "</table>\n",
       "</div>"
      ],
      "text/plain": [
       "group    event_name     A     B\n",
       "0             login  5466  5383\n",
       "1      product_cart  1756  1812\n",
       "2      product_page  3639  3527\n",
       "3          purchase  1931  1782"
      ]
     },
     "execution_count": 158,
     "metadata": {},
     "output_type": "execute_result"
    }
   ],
   "source": [
    "#pivot table group events\n",
    "ab_pivot_eu = eu_test_participants.pivot_table(index='event_name', values='user_id', columns='group', aggfunc='nunique').reset_index()\n",
    "ab_pivot_eu"
   ]
  },
  {
   "cell_type": "code",
   "execution_count": 162,
   "id": "f099d745-fa27-4886-bd01-7bb98cdc1f23",
   "metadata": {},
   "outputs": [
    {
     "name": "stdout",
     "output_type": "stream",
     "text": [
      " We can't reject null hypotesis\n"
     ]
    }
   ],
   "source": [
    "#running chi2 test for each event group 246 and 248\n",
    "group = ['A','B']\n",
    " \n",
    "#perform chi-square test for the current event\n",
    "chi2_stat, p_val, dof, expected = chi2_contingency(ab_pivot_eu[group])\n",
    "\n",
    "if p_val < alpha:\n",
    "    print('Reject null hypotesis')\n",
    "else:\n",
    "    print(\" We can't reject null hypotesis\")"
   ]
  },
  {
   "cell_type": "markdown",
   "id": "735536d6-9f74-4ab3-baa3-3b14ad14aa4e",
   "metadata": {},
   "source": [
    "## conclusion"
   ]
  },
  {
   "cell_type": "markdown",
   "id": "a1315cce-5035-4dc2-b9e2-8eeccf84692e",
   "metadata": {},
   "source": [
    " Based on the results of the chi-square test, which indicated that we cannot reject the null hypothesis, I conclude that there is no significant difference between group A and group B for all events. \n",
    " \n",
    " Therefore, there is insufficient evidence to support the alternative hypothesis, suggesting that there is a significant difference between the two groups for all events.\n",
    " \n",
    "  This implies that, based on the data analyzed, the performance of group A and group B across the events examined appears to be similar for both interfaces"
   ]
  },
  {
   "cell_type": "markdown",
   "id": "7adf78f2-caf9-4e51-beb9-99b4fced2ef7",
   "metadata": {},
   "source": [
    "# Project conclusion"
   ]
  },
  {
   "cell_type": "markdown",
   "id": "0956b604-bef8-4451-bbef-2f5a25f55e1d",
   "metadata": {},
   "source": [
    "* The number of events was well distributed between the samples.\n",
    "* There was users in both samples.\n",
    "* There was good distribution between dates but the fact test was done on Christmas period might have affected result.\n",
    "* Even though we found a large group difference on eu interface test to system I ran the chi square test for both. Both tests could not reject null hypothesis.\n",
    "\n",
    " "
   ]
  },
  {
   "cell_type": "code",
   "execution_count": null,
   "id": "7ada6af5-934d-4e60-b40e-274af37fbae4",
   "metadata": {},
   "outputs": [],
   "source": []
  }
 ],
 "metadata": {
  "kernelspec": {
   "display_name": "anaconda-panel-2023.05-py310",
   "language": "python",
   "name": "conda-env-anaconda-panel-2023.05-py310-py"
  },
  "language_info": {
   "codemirror_mode": {
    "name": "ipython",
    "version": 3
   },
   "file_extension": ".py",
   "mimetype": "text/x-python",
   "name": "python",
   "nbconvert_exporter": "python",
   "pygments_lexer": "ipython3",
   "version": "3.11.5"
  }
 },
 "nbformat": 4,
 "nbformat_minor": 5
}
